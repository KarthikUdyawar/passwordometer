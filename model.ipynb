{
 "cells": [
  {
   "cell_type": "code",
   "execution_count": null,
   "id": "8c282bff",
   "metadata": {},
   "outputs": [],
   "source": [
    "import opendatasets as od"
   ]
  },
  {
   "cell_type": "code",
   "execution_count": null,
   "id": "906f178f",
   "metadata": {},
   "outputs": [],
   "source": [
    "datadase_url = \"https://www.kaggle.com/datasets/inputblackboxoutput/passwordevaluation\"\n",
    "od.download(datadase_url)"
   ]
  },
  {
   "cell_type": "code",
   "execution_count": 1,
   "id": "e09bb4bf",
   "metadata": {},
   "outputs": [],
   "source": [
    "import pandas as pd\n",
    "from joblib import dump"
   ]
  },
  {
   "cell_type": "code",
   "execution_count": 2,
   "id": "dd4ecb7b",
   "metadata": {},
   "outputs": [
    {
     "data": {
      "text/html": [
       "<div>\n",
       "<style scoped>\n",
       "    .dataframe tbody tr th:only-of-type {\n",
       "        vertical-align: middle;\n",
       "    }\n",
       "\n",
       "    .dataframe tbody tr th {\n",
       "        vertical-align: top;\n",
       "    }\n",
       "\n",
       "    .dataframe thead th {\n",
       "        text-align: right;\n",
       "    }\n",
       "</style>\n",
       "<table border=\"1\" class=\"dataframe\">\n",
       "  <thead>\n",
       "    <tr style=\"text-align: right;\">\n",
       "      <th></th>\n",
       "      <th>0</th>\n",
       "      <th>123456</th>\n",
       "    </tr>\n",
       "  </thead>\n",
       "  <tbody>\n",
       "    <tr>\n",
       "      <th>0</th>\n",
       "      <td>0</td>\n",
       "      <td>12345</td>\n",
       "    </tr>\n",
       "    <tr>\n",
       "      <th>1</th>\n",
       "      <td>0</td>\n",
       "      <td>123456789</td>\n",
       "    </tr>\n",
       "    <tr>\n",
       "      <th>2</th>\n",
       "      <td>0</td>\n",
       "      <td>password</td>\n",
       "    </tr>\n",
       "    <tr>\n",
       "      <th>3</th>\n",
       "      <td>0</td>\n",
       "      <td>iloveyou</td>\n",
       "    </tr>\n",
       "    <tr>\n",
       "      <th>4</th>\n",
       "      <td>0</td>\n",
       "      <td>princess</td>\n",
       "    </tr>\n",
       "  </tbody>\n",
       "</table>\n",
       "</div>"
      ],
      "text/plain": [
       "   0     123456\n",
       "0  0      12345\n",
       "1  0  123456789\n",
       "2  0   password\n",
       "3  0   iloveyou\n",
       "4  0   princess"
      ]
     },
     "execution_count": 2,
     "metadata": {},
     "output_type": "execute_result"
    }
   ],
   "source": [
    "dataset_path = \"./passwordevaluation/dataset.csv\"\n",
    "raw_df = pd.read_csv(dataset_path, encoding=\"utf-8\")\n",
    "raw_df.head()"
   ]
  },
  {
   "cell_type": "code",
   "execution_count": 3,
   "id": "13121402",
   "metadata": {},
   "outputs": [
    {
     "name": "stdout",
     "output_type": "stream",
     "text": [
      "<class 'pandas.core.frame.DataFrame'>\n",
      "RangeIndex: 14344389 entries, 0 to 14344388\n",
      "Data columns (total 2 columns):\n",
      " #   Column    Dtype \n",
      "---  ------    ----- \n",
      " 0   strength  int32 \n",
      " 1   password  object\n",
      "dtypes: int32(1), object(1)\n",
      "memory usage: 164.2+ MB\n"
     ]
    }
   ],
   "source": [
    "raw_df.columns = [\"strength\", \"password\"]\n",
    "raw_df = raw_df.astype({\"strength\": int, \"password\": str})\n",
    "raw_df.dropna(inplace=True)\n",
    "raw_df.info()"
   ]
  },
  {
   "cell_type": "code",
   "execution_count": 4,
   "id": "00d76a8d",
   "metadata": {},
   "outputs": [],
   "source": [
    "df1 = raw_df[~raw_df[\"password\"].str.contains(r\"[^\\x00-\\x7F]\")]"
   ]
  },
  {
   "cell_type": "code",
   "execution_count": 5,
   "id": "062c593f",
   "metadata": {},
   "outputs": [],
   "source": [
    "n_ = df1[\"strength\"].value_counts().min()\n",
    "df2 = df1.groupby(\"strength\").sample(n=n_, random_state=42)\n",
    "N = n_ * len(df2[\"strength\"].unique())"
   ]
  },
  {
   "cell_type": "code",
   "execution_count": 6,
   "id": "87d1fee4",
   "metadata": {},
   "outputs": [],
   "source": [
    "df = df2.sample(N,random_state=24)\n",
    "df.reset_index(drop=True, inplace=True)"
   ]
  },
  {
   "cell_type": "code",
   "execution_count": 8,
   "id": "04c24873",
   "metadata": {},
   "outputs": [
    {
     "data": {
      "text/html": [
       "<div>\n",
       "<style scoped>\n",
       "    .dataframe tbody tr th:only-of-type {\n",
       "        vertical-align: middle;\n",
       "    }\n",
       "\n",
       "    .dataframe tbody tr th {\n",
       "        vertical-align: top;\n",
       "    }\n",
       "\n",
       "    .dataframe thead th {\n",
       "        text-align: right;\n",
       "    }\n",
       "</style>\n",
       "<table border=\"1\" class=\"dataframe\">\n",
       "  <thead>\n",
       "    <tr style=\"text-align: right;\">\n",
       "      <th></th>\n",
       "      <th>strength</th>\n",
       "      <th>password</th>\n",
       "    </tr>\n",
       "  </thead>\n",
       "  <tbody>\n",
       "    <tr>\n",
       "      <th>0</th>\n",
       "      <td>0</td>\n",
       "      <td>using</td>\n",
       "    </tr>\n",
       "    <tr>\n",
       "      <th>1</th>\n",
       "      <td>2</td>\n",
       "      <td>stacey13041996</td>\n",
       "    </tr>\n",
       "    <tr>\n",
       "      <th>2</th>\n",
       "      <td>1</td>\n",
       "      <td>mccaffrey87</td>\n",
       "    </tr>\n",
       "    <tr>\n",
       "      <th>3</th>\n",
       "      <td>3</td>\n",
       "      <td>mitaya2003</td>\n",
       "    </tr>\n",
       "    <tr>\n",
       "      <th>4</th>\n",
       "      <td>4</td>\n",
       "      <td>vayacontioz</td>\n",
       "    </tr>\n",
       "    <tr>\n",
       "      <th>...</th>\n",
       "      <td>...</td>\n",
       "      <td>...</td>\n",
       "    </tr>\n",
       "    <tr>\n",
       "      <th>149360</th>\n",
       "      <td>1</td>\n",
       "      <td>alexisgt</td>\n",
       "    </tr>\n",
       "    <tr>\n",
       "      <th>149361</th>\n",
       "      <td>4</td>\n",
       "      <td>tai007nakab</td>\n",
       "    </tr>\n",
       "    <tr>\n",
       "      <th>149362</th>\n",
       "      <td>4</td>\n",
       "      <td>matricula1962</td>\n",
       "    </tr>\n",
       "    <tr>\n",
       "      <th>149363</th>\n",
       "      <td>0</td>\n",
       "      <td>p3ters</td>\n",
       "    </tr>\n",
       "    <tr>\n",
       "      <th>149364</th>\n",
       "      <td>0</td>\n",
       "      <td>inez</td>\n",
       "    </tr>\n",
       "  </tbody>\n",
       "</table>\n",
       "<p>149365 rows × 2 columns</p>\n",
       "</div>"
      ],
      "text/plain": [
       "        strength        password\n",
       "0              0           using\n",
       "1              2  stacey13041996\n",
       "2              1     mccaffrey87\n",
       "3              3      mitaya2003\n",
       "4              4     vayacontioz\n",
       "...          ...             ...\n",
       "149360         1        alexisgt\n",
       "149361         4     tai007nakab\n",
       "149362         4   matricula1962\n",
       "149363         0          p3ters\n",
       "149364         0            inez\n",
       "\n",
       "[149365 rows x 2 columns]"
      ]
     },
     "execution_count": 8,
     "metadata": {},
     "output_type": "execute_result"
    }
   ],
   "source": [
    "df"
   ]
  }
 ],
 "metadata": {
  "kernelspec": {
   "display_name": "Python 3.8.0 ('env': venv)",
   "language": "python",
   "name": "python3"
  },
  "language_info": {
   "codemirror_mode": {
    "name": "ipython",
    "version": 3
   },
   "file_extension": ".py",
   "mimetype": "text/x-python",
   "name": "python",
   "nbconvert_exporter": "python",
   "pygments_lexer": "ipython3",
   "version": "3.8.0"
  },
  "vscode": {
   "interpreter": {
    "hash": "2f4730d2aaef2b6dd1766af4f6277eef0b4825091768a6a213c68fba3f24ecdd"
   }
  }
 },
 "nbformat": 4,
 "nbformat_minor": 5
}
