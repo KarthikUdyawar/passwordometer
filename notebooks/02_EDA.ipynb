{
 "cells": [
  {
   "cell_type": "code",
   "execution_count": 1,
   "metadata": {},
   "outputs": [],
   "source": [
    "import pandas as pd"
   ]
  },
  {
   "cell_type": "code",
   "execution_count": 2,
   "metadata": {},
   "outputs": [
    {
     "data": {
      "text/html": [
       "<div>\n",
       "<style scoped>\n",
       "    .dataframe tbody tr th:only-of-type {\n",
       "        vertical-align: middle;\n",
       "    }\n",
       "\n",
       "    .dataframe tbody tr th {\n",
       "        vertical-align: top;\n",
       "    }\n",
       "\n",
       "    .dataframe thead th {\n",
       "        text-align: right;\n",
       "    }\n",
       "</style>\n",
       "<table border=\"1\" class=\"dataframe\">\n",
       "  <thead>\n",
       "    <tr style=\"text-align: right;\">\n",
       "      <th></th>\n",
       "      <th>password</th>\n",
       "      <th>strength</th>\n",
       "    </tr>\n",
       "  </thead>\n",
       "  <tbody>\n",
       "    <tr>\n",
       "      <th>0</th>\n",
       "      <td>123456</td>\n",
       "      <td>0.172331</td>\n",
       "    </tr>\n",
       "    <tr>\n",
       "      <th>1</th>\n",
       "      <td>12345</td>\n",
       "      <td>0.128996</td>\n",
       "    </tr>\n",
       "    <tr>\n",
       "      <th>2</th>\n",
       "      <td>123456789</td>\n",
       "      <td>0.316992</td>\n",
       "    </tr>\n",
       "    <tr>\n",
       "      <th>3</th>\n",
       "      <td>password</td>\n",
       "      <td>0.249543</td>\n",
       "    </tr>\n",
       "    <tr>\n",
       "      <th>4</th>\n",
       "      <td>iloveyou</td>\n",
       "      <td>0.249543</td>\n",
       "    </tr>\n",
       "  </tbody>\n",
       "</table>\n",
       "</div>"
      ],
      "text/plain": [
       "    password  strength\n",
       "0     123456  0.172331\n",
       "1      12345  0.128996\n",
       "2  123456789  0.316992\n",
       "3   password  0.249543\n",
       "4   iloveyou  0.249543"
      ]
     },
     "execution_count": 2,
     "metadata": {},
     "output_type": "execute_result"
    }
   ],
   "source": [
    "_df = pd.read_parquet('./data/passwords.gzip', engine='pyarrow')\n",
    "_df.head()"
   ]
  },
  {
   "cell_type": "code",
   "execution_count": 3,
   "metadata": {},
   "outputs": [
    {
     "name": "stdout",
     "output_type": "stream",
     "text": [
      "<class 'pandas.core.frame.DataFrame'>\n",
      "Int64Index: 14344094 entries, 0 to 14344096\n",
      "Data columns (total 2 columns):\n",
      " #   Column    Dtype  \n",
      "---  ------    -----  \n",
      " 0   password  object \n",
      " 1   strength  float64\n",
      "dtypes: float64(1), object(1)\n",
      "memory usage: 328.3+ MB\n"
     ]
    }
   ],
   "source": [
    "_df.info()"
   ]
  },
  {
   "cell_type": "code",
   "execution_count": 4,
   "metadata": {},
   "outputs": [
    {
     "data": {
      "text/html": [
       "<div>\n",
       "<style scoped>\n",
       "    .dataframe tbody tr th:only-of-type {\n",
       "        vertical-align: middle;\n",
       "    }\n",
       "\n",
       "    .dataframe tbody tr th {\n",
       "        vertical-align: top;\n",
       "    }\n",
       "\n",
       "    .dataframe thead th {\n",
       "        text-align: right;\n",
       "    }\n",
       "</style>\n",
       "<table border=\"1\" class=\"dataframe\">\n",
       "  <thead>\n",
       "    <tr style=\"text-align: right;\">\n",
       "      <th></th>\n",
       "      <th>password</th>\n",
       "      <th>strength</th>\n",
       "    </tr>\n",
       "  </thead>\n",
       "  <tbody>\n",
       "    <tr>\n",
       "      <th>9740708</th>\n",
       "      <td>beads45</td>\n",
       "      <td>0.218350</td>\n",
       "    </tr>\n",
       "    <tr>\n",
       "      <th>6142619</th>\n",
       "      <td>lizzybob</td>\n",
       "      <td>0.229774</td>\n",
       "    </tr>\n",
       "    <tr>\n",
       "      <th>12835930</th>\n",
       "      <td>2352300</td>\n",
       "      <td>0.155556</td>\n",
       "    </tr>\n",
       "    <tr>\n",
       "      <th>6344017</th>\n",
       "      <td>lapolitica</td>\n",
       "      <td>0.311928</td>\n",
       "    </tr>\n",
       "    <tr>\n",
       "      <th>8912029</th>\n",
       "      <td>cross*5</td>\n",
       "      <td>0.201053</td>\n",
       "    </tr>\n",
       "    <tr>\n",
       "      <th>...</th>\n",
       "      <td>...</td>\n",
       "      <td>...</td>\n",
       "    </tr>\n",
       "    <tr>\n",
       "      <th>6575475</th>\n",
       "      <td>killertin0</td>\n",
       "      <td>0.333333</td>\n",
       "    </tr>\n",
       "    <tr>\n",
       "      <th>2859321</th>\n",
       "      <td>voiture69</td>\n",
       "      <td>0.316992</td>\n",
       "    </tr>\n",
       "    <tr>\n",
       "      <th>11428648</th>\n",
       "      <td>Alnoek2</td>\n",
       "      <td>0.218350</td>\n",
       "    </tr>\n",
       "    <tr>\n",
       "      <th>7843698</th>\n",
       "      <td>gnmkj1993</td>\n",
       "      <td>0.300000</td>\n",
       "    </tr>\n",
       "    <tr>\n",
       "      <th>9992035</th>\n",
       "      <td>army909</td>\n",
       "      <td>0.201053</td>\n",
       "    </tr>\n",
       "  </tbody>\n",
       "</table>\n",
       "<p>10000 rows × 2 columns</p>\n",
       "</div>"
      ],
      "text/plain": [
       "            password  strength\n",
       "9740708      beads45  0.218350\n",
       "6142619     lizzybob  0.229774\n",
       "12835930     2352300  0.155556\n",
       "6344017   lapolitica  0.311928\n",
       "8912029      cross*5  0.201053\n",
       "...              ...       ...\n",
       "6575475   killertin0  0.333333\n",
       "2859321    voiture69  0.316992\n",
       "11428648     Alnoek2  0.218350\n",
       "7843698    gnmkj1993  0.300000\n",
       "9992035      army909  0.201053\n",
       "\n",
       "[10000 rows x 2 columns]"
      ]
     },
     "execution_count": 4,
     "metadata": {},
     "output_type": "execute_result"
    }
   ],
   "source": [
    "df = _df.sample(10_000)\n",
    "df "
   ]
  },
  {
   "cell_type": "code",
   "execution_count": null,
   "metadata": {},
   "outputs": [],
   "source": [
    "df.to_csv(\"./data/sample_data.csv\", index=False)"
   ]
  }
 ],
 "metadata": {
  "kernelspec": {
   "display_name": "env",
   "language": "python",
   "name": "python3"
  },
  "language_info": {
   "codemirror_mode": {
    "name": "ipython",
    "version": 3
   },
   "file_extension": ".py",
   "mimetype": "text/x-python",
   "name": "python",
   "nbconvert_exporter": "python",
   "pygments_lexer": "ipython3",
   "version": "3.10.6"
  },
  "orig_nbformat": 4
 },
 "nbformat": 4,
 "nbformat_minor": 2
}
