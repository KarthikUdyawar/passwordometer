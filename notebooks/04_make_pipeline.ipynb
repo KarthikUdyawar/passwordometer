{
 "cells": [
  {
   "cell_type": "code",
   "execution_count": 1,
   "metadata": {},
   "outputs": [],
   "source": [
    "from sklearn.base import BaseEstimator, TransformerMixin\n",
    "from sklearn.compose import ColumnTransformer\n",
    "from sklearn.ensemble import ExtraTreesRegressor\n",
    "from sklearn.metrics import mean_absolute_error, mean_squared_error, r2_score\n",
    "from sklearn.model_selection import train_test_split, KFold\n",
    "from sklearn.pipeline import Pipeline\n",
    "\n",
    "import joblib\n",
    "import numpy as np\n",
    "import pandas as pd\n",
    "import time"
   ]
  },
  {
   "cell_type": "code",
   "execution_count": 2,
   "metadata": {},
   "outputs": [
    {
     "data": {
      "text/html": [
       "<div>\n",
       "<style scoped>\n",
       "    .dataframe tbody tr th:only-of-type {\n",
       "        vertical-align: middle;\n",
       "    }\n",
       "\n",
       "    .dataframe tbody tr th {\n",
       "        vertical-align: top;\n",
       "    }\n",
       "\n",
       "    .dataframe thead th {\n",
       "        text-align: right;\n",
       "    }\n",
       "</style>\n",
       "<table border=\"1\" class=\"dataframe\">\n",
       "  <thead>\n",
       "    <tr style=\"text-align: right;\">\n",
       "      <th></th>\n",
       "      <th>password</th>\n",
       "      <th>strength</th>\n",
       "    </tr>\n",
       "  </thead>\n",
       "  <tbody>\n",
       "    <tr>\n",
       "      <th>0</th>\n",
       "      <td>csillik</td>\n",
       "      <td>0.180594</td>\n",
       "    </tr>\n",
       "    <tr>\n",
       "      <th>1</th>\n",
       "      <td>huniihuu</td>\n",
       "      <td>0.177778</td>\n",
       "    </tr>\n",
       "    <tr>\n",
       "      <th>2</th>\n",
       "      <td>chaipy</td>\n",
       "      <td>0.172331</td>\n",
       "    </tr>\n",
       "    <tr>\n",
       "      <th>3</th>\n",
       "      <td>876876b</td>\n",
       "      <td>0.155556</td>\n",
       "    </tr>\n",
       "    <tr>\n",
       "      <th>4</th>\n",
       "      <td>miiwhy</td>\n",
       "      <td>0.154795</td>\n",
       "    </tr>\n",
       "  </tbody>\n",
       "</table>\n",
       "</div>"
      ],
      "text/plain": [
       "   password  strength\n",
       "0   csillik  0.180594\n",
       "1  huniihuu  0.177778\n",
       "2    chaipy  0.172331\n",
       "3   876876b  0.155556\n",
       "4    miiwhy  0.154795"
      ]
     },
     "execution_count": 2,
     "metadata": {},
     "output_type": "execute_result"
    }
   ],
   "source": [
    "df = pd.read_csv(\"./data/stratified_sample_data.csv\")\n",
    "df.head()"
   ]
  },
  {
   "cell_type": "code",
   "execution_count": 3,
   "metadata": {},
   "outputs": [],
   "source": [
    "X = df[\"password\"]\n",
    "y = df[\"strength\"]\n",
    "X_train, X_test, y_train, y_test = train_test_split(\n",
    "    X, y, test_size=0.2, random_state=42\n",
    ")"
   ]
  },
  {
   "cell_type": "code",
   "execution_count": 4,
   "metadata": {},
   "outputs": [],
   "source": [
    "class LenTransform(BaseEstimator, TransformerMixin):\n",
    "    def __init__(self):\n",
    "        pass\n",
    "\n",
    "    def fit(self, X, y=None):\n",
    "        return self\n",
    "\n",
    "    def transform(self, X):\n",
    "        X[\"len\"] = X[\"password\"].apply(lambda x: self._lenTransform(x))\n",
    "        transformed_X = X[\"len\"].to_numpy()\n",
    "        return np.array(transformed_X).reshape(-1, 1)\n",
    "\n",
    "    def _lenTransform(self, text: str) -> int:\n",
    "        return len(text)"
   ]
  },
  {
   "cell_type": "code",
   "execution_count": 5,
   "metadata": {},
   "outputs": [],
   "source": [
    "class AlphaUCTransform(BaseEstimator, TransformerMixin):\n",
    "    def __init__(self):\n",
    "        pass\n",
    "\n",
    "    def fit(self, X, y=None):\n",
    "        return self\n",
    "\n",
    "    def transform(self, X):\n",
    "        X[\"alphaUC\"] = X[\"password\"].apply(lambda x: self._alphaUCTransform(x))\n",
    "        transformed_X = X[\"alphaUC\"].to_numpy()\n",
    "        return np.array(transformed_X).reshape(-1, 1)\n",
    "    \n",
    "    def _alphaUCTransform(self, text: str) -> int:\n",
    "        return sum(1 for a in text if a.isupper())"
   ]
  },
  {
   "cell_type": "code",
   "execution_count": 6,
   "metadata": {},
   "outputs": [],
   "source": [
    "class AlphaLCTransform(BaseEstimator, TransformerMixin):\n",
    "    def __init__(self):\n",
    "        pass\n",
    "\n",
    "    def fit(self, X, y=None):\n",
    "        return self\n",
    "\n",
    "    def transform(self, X):\n",
    "        X[\"alphaLC\"] = X[\"password\"].apply(lambda x: self._alphaLCTransform(x))\n",
    "        transformed_X = X[\"alphaLC\"].to_numpy()\n",
    "        return np.array(transformed_X).reshape(-1, 1)\n",
    "\n",
    "    def _alphaLCTransform(self, text: str) -> int:\n",
    "        return sum(1 for a in text if a.islower())"
   ]
  },
  {
   "cell_type": "code",
   "execution_count": 7,
   "metadata": {},
   "outputs": [],
   "source": [
    "class NumberTransform(BaseEstimator, TransformerMixin):\n",
    "    def __init__(self):\n",
    "        pass\n",
    "\n",
    "    def fit(self, X, y=None):\n",
    "        return self\n",
    "\n",
    "    def transform(self, X):\n",
    "        X[\"number\"] = X[\"password\"].apply(lambda x: self._numberTransform(x))\n",
    "        transformed_X = X[\"number\"].to_numpy()\n",
    "        return np.array(transformed_X).reshape(-1, 1)\n",
    "    \n",
    "    def _numberTransform(self, text: str) -> int:\n",
    "        return sum(1 for a in text if a.isdecimal())"
   ]
  },
  {
   "cell_type": "code",
   "execution_count": 8,
   "metadata": {},
   "outputs": [],
   "source": [
    "class SymbolTransform(BaseEstimator, TransformerMixin):\n",
    "    def __init__(self):\n",
    "        pass\n",
    "\n",
    "    def fit(self, X, y=None):\n",
    "        return self\n",
    "\n",
    "    def transform(self, X):\n",
    "        X[\"symbol\"] = X[\"password\"].apply(lambda x: self._symbolTransform(x))\n",
    "        transformed_X =  X[\"symbol\"].to_numpy()\n",
    "        return np.array(transformed_X).reshape(-1, 1)\n",
    "    \n",
    "    def _symbolTransform(self, text: str) -> int:\n",
    "        return sum(a in set(\"!@#$%^&*\") for a in text)"
   ]
  },
  {
   "cell_type": "code",
   "execution_count": 9,
   "metadata": {},
   "outputs": [],
   "source": [
    "class MidCharTransform(BaseEstimator, TransformerMixin):\n",
    "    def __init__(self):\n",
    "        pass\n",
    "\n",
    "    def fit(self, X, y=None):\n",
    "        return self\n",
    "\n",
    "    def transform(self, X):\n",
    "        X[\"midChar\"] = X[\"password\"].apply(lambda x: self._midCharTransform(x))\n",
    "        transformed_X = X[\"midChar\"].to_numpy()\n",
    "        return np.array(transformed_X).reshape(-1, 1)\n",
    "    \n",
    "    def _midCharTransform(self, text: str) -> int:\n",
    "        return sum(\n",
    "                bool(\n",
    "                    (a.isdecimal() or (a in set(\"!@#$%^&*\")))\n",
    "                    and ix > 0\n",
    "                    and ix < len(text) - 1\n",
    "                )\n",
    "                for ix, a in enumerate(text)\n",
    "            )"
   ]
  },
  {
   "cell_type": "code",
   "execution_count": 10,
   "metadata": {},
   "outputs": [],
   "source": [
    "class RepCharTransform(BaseEstimator, TransformerMixin):\n",
    "    def __init__(self):\n",
    "        pass\n",
    "\n",
    "    def fit(self, X, y=None):\n",
    "        return self\n",
    "\n",
    "    def transform(self, X):\n",
    "        X[\"repChar\"] = X[\"password\"].apply(lambda x: self._repCharTransform(x))\n",
    "        transformed_X = X[\"repChar\"].to_numpy()\n",
    "        return np.array(transformed_X).reshape(-1, 1)\n",
    "    \n",
    "    def _repCharTransform(self, text: str) -> int:\n",
    "        return len(text) - len(list(set(text)))"
   ]
  },
  {
   "cell_type": "code",
   "execution_count": 11,
   "metadata": {},
   "outputs": [],
   "source": [
    "class UniqueCharTransform(BaseEstimator, TransformerMixin):\n",
    "    def __init__(self):\n",
    "        pass\n",
    "\n",
    "    def fit(self, X, y=None):\n",
    "        return self\n",
    "\n",
    "    def transform(self, X):\n",
    "        X[\"uniqueChar\"] = X[\"password\"].apply(lambda x: self._uniqueCharTransform(x))\n",
    "        transformed_X = X[\"uniqueChar\"].to_numpy()\n",
    "        return np.array(transformed_X).reshape(-1, 1)\n",
    "    \n",
    "    def _uniqueCharTransform(self, text: str) -> int:\n",
    "        return len(list(set(text)))"
   ]
  },
  {
   "cell_type": "code",
   "execution_count": 12,
   "metadata": {},
   "outputs": [],
   "source": [
    "class ConsecAlphaUCTransform(BaseEstimator, TransformerMixin):\n",
    "    def __init__(self):\n",
    "        pass\n",
    "\n",
    "    def fit(self, X, y=None):\n",
    "        return self\n",
    "\n",
    "    def transform(self, X):\n",
    "        X[\"consecAlphaUC\"] = X[\"password\"].apply(lambda x: self._consecAlphaUCTransform(x))\n",
    "        transformed_X = X[\"consecAlphaUC\"].to_numpy()\n",
    "        return np.array(transformed_X).reshape(-1, 1)\n",
    "    \n",
    "    def _consecAlphaUCTransform(self, text: str) -> int:\n",
    "        temp = \"\"\n",
    "        nConsecAlphaUC = 0\n",
    "        for a in text:\n",
    "            if a.isupper():\n",
    "                if temp and temp[-1] == a:\n",
    "                    nConsecAlphaUC += 1\n",
    "                temp = a\n",
    "        return nConsecAlphaUC\n"
   ]
  },
  {
   "cell_type": "code",
   "execution_count": 13,
   "metadata": {},
   "outputs": [],
   "source": [
    "class ConsecAlphaLCTransform(BaseEstimator, TransformerMixin):\n",
    "    def __init__(self):\n",
    "        pass\n",
    "\n",
    "    def fit(self, X, y=None):\n",
    "        return self\n",
    "\n",
    "    def transform(self, X):\n",
    "        X[\"consecAlphaLC\"] = X[\"password\"].apply(lambda x: self._consecAlphaLCTransform(x))\n",
    "        transformed_X = X[\"consecAlphaLC\"].to_numpy()\n",
    "        return np.array(transformed_X).reshape(-1, 1)\n",
    "    \n",
    "    def _consecAlphaLCTransform(self, text: str) -> int:\n",
    "        temp = \"\"\n",
    "        nConsecAlphaLC = 0\n",
    "        for a in text:\n",
    "            if a.islower():\n",
    "                if temp and temp[-1] == a:\n",
    "                    nConsecAlphaLC += 1\n",
    "                temp = a\n",
    "        return nConsecAlphaLC\n"
   ]
  },
  {
   "cell_type": "code",
   "execution_count": 14,
   "metadata": {},
   "outputs": [],
   "source": [
    "class ConsecNumberTransform(BaseEstimator, TransformerMixin):\n",
    "    def __init__(self):\n",
    "        pass\n",
    "\n",
    "    def fit(self, X, y=None):\n",
    "        return self\n",
    "\n",
    "    def transform(self, X):\n",
    "        X[\"consecNumber\"] = X[\"password\"].apply(lambda x: self._consecNumberTransform(x))\n",
    "        transformed_X = X[\"consecNumber\"].to_numpy()\n",
    "        return np.array(transformed_X).reshape(-1, 1)\n",
    "    \n",
    "    def _consecNumberTransform(self, text: str) -> int:\n",
    "        temp = \"\"\n",
    "        nConsecNumber = 0\n",
    "        for a in text:\n",
    "            if a.isdecimal():\n",
    "                if temp and temp[-1] == a:\n",
    "                    nConsecNumber += 1\n",
    "                temp = a\n",
    "        return nConsecNumber\n"
   ]
  },
  {
   "cell_type": "code",
   "execution_count": 15,
   "metadata": {},
   "outputs": [],
   "source": [
    "class ConsecSymbolTransform(BaseEstimator, TransformerMixin):\n",
    "    def __init__(self):\n",
    "        pass\n",
    "\n",
    "    def fit(self, X, y=None):\n",
    "        return self\n",
    "\n",
    "    def transform(self, X):\n",
    "        X[\"consecSymbol\"] = X[\"password\"].apply(lambda x: self._consecSymbolTransform(x))\n",
    "        transformed_X = X[\"consecSymbol\"].to_numpy()\n",
    "        return np.array(transformed_X).reshape(-1, 1)\n",
    "    \n",
    "    def _consecSymbolTransform(self, text: str) -> int:\n",
    "        temp = \"\"\n",
    "        nConsecSymbol = 0\n",
    "        for a in text:\n",
    "            if a in set(\"!@#$%^&*\"):\n",
    "                if temp and temp[-1] == a:\n",
    "                    nConsecSymbol += 1\n",
    "                temp = a\n",
    "        return nConsecSymbol"
   ]
  },
  {
   "cell_type": "code",
   "execution_count": 16,
   "metadata": {},
   "outputs": [],
   "source": [
    "class SeqAlphaTransform(BaseEstimator, TransformerMixin):\n",
    "    def __init__(self):\n",
    "        pass\n",
    "\n",
    "    def fit(self, X, y=None):\n",
    "        return self\n",
    "    \n",
    "    def transform(self, X):\n",
    "        X[\"seqAlpha\"] = X[\"password\"].apply(lambda x: self._seqAlphaTransform(x))\n",
    "        transformed_X = X[\"seqAlpha\"].to_numpy()\n",
    "        return np.array(transformed_X).reshape(-1, 1)\n",
    "    \n",
    "    def _seqAlphaTransform(self, text: str) -> int:\n",
    "        sAlphas = \"abcdefghijklmnopqrstuvwxyz\"\n",
    "        nSeqAlpha = 0\n",
    "        for s in range(len(sAlphas) - 2):\n",
    "            sFwd = sAlphas[s : s + 3]\n",
    "            sRev = sFwd[::-1]\n",
    "            if sFwd in text.lower() or sRev in text.lower():\n",
    "                nSeqAlpha += 1\n",
    "        return nSeqAlpha\n"
   ]
  },
  {
   "cell_type": "code",
   "execution_count": 17,
   "metadata": {},
   "outputs": [],
   "source": [
    "class SeqNumberTransform(BaseEstimator, TransformerMixin):\n",
    "    def __init__(self):\n",
    "        pass\n",
    "\n",
    "    def fit(self, X, y=None):\n",
    "        return self\n",
    "\n",
    "    def transform(self, X):\n",
    "        X[\"seqNumber\"] = X[\"password\"].apply(lambda x: self._seqNumberTransform(x))\n",
    "        transformed_X = X[\"seqNumber\"].to_numpy()\n",
    "        return np.array(transformed_X).reshape(-1, 1)\n",
    "    \n",
    "    def _seqNumberTransform(self, text: str) -> int:\n",
    "        sNumerics = \"01234567890\"\n",
    "        nSeqNumber = 0\n",
    "        for s in range(len(sNumerics) - 2):\n",
    "            sFwd = sNumerics[s : s + 3]\n",
    "            sRev = sFwd[::-1]\n",
    "            if sFwd in text.lower() or sRev in text.lower():\n",
    "                nSeqNumber += 1\n",
    "        return nSeqNumber"
   ]
  },
  {
   "cell_type": "code",
   "execution_count": 18,
   "metadata": {},
   "outputs": [],
   "source": [
    "class SeqKeyboardTransform(BaseEstimator, TransformerMixin):\n",
    "    def __init__(self):\n",
    "        pass\n",
    "\n",
    "    def fit(self, X, y=None):\n",
    "        return self\n",
    "\n",
    "    def transform(self, X):\n",
    "        X[\"seqKeyboard\"] = X[\"password\"].apply(lambda x: self._seqKeyboardTransform(x))\n",
    "        transformed_X = X[\"seqKeyboard\"].to_numpy()\n",
    "        return np.array(transformed_X).reshape(-1, 1)\n",
    "    \n",
    "    def _seqKeyboardTransform(self, text: str) -> int:\n",
    "        sTopRow = \"qwertyuiop\"\n",
    "        sHomeRow = \"asdfghjkl\"\n",
    "        sBottomRow = \"zxcvbnm\"\n",
    "        nKeyboard = 0\n",
    "        sRows = [sTopRow, sHomeRow, sBottomRow]\n",
    "        \n",
    "        for sRow in sRows:\n",
    "            for s in range(len(sRow) - 2):\n",
    "                sFwd = sRow[s : s + 3]\n",
    "                sRev = sFwd[::-1]\n",
    "                if sFwd in text.lower() or sRev in text.lower():\n",
    "                    nKeyboard += 1\n",
    "                    \n",
    "        return nKeyboard"
   ]
  },
  {
   "cell_type": "code",
   "execution_count": 19,
   "metadata": {},
   "outputs": [],
   "source": [
    "feature = ['password']\n",
    "\n",
    "preprocess = ColumnTransformer([\n",
    "    ('len', LenTransform(), feature),\n",
    "    ('alpha_uc', AlphaUCTransform(), feature),\n",
    "    ('alpha_lc', AlphaLCTransform(), feature),\n",
    "    ('number', NumberTransform(), feature),\n",
    "    ('symbol', SymbolTransform(), feature),\n",
    "    ('mid_char', MidCharTransform(), feature),\n",
    "    ('rep_char', RepCharTransform(), feature),\n",
    "    ('unique_char', UniqueCharTransform(), feature),\n",
    "    ('consec_alpha_uc', ConsecAlphaUCTransform(), feature),\n",
    "    ('consec_alpha_lc', ConsecAlphaLCTransform(), feature),\n",
    "    ('consec_number', ConsecNumberTransform(), feature),\n",
    "    ('consec_symbol', ConsecSymbolTransform(), feature),\n",
    "    ('seq_alpha', SeqAlphaTransform(), feature),\n",
    "    ('seq_number', SeqNumberTransform(), feature),\n",
    "    ('seq_keyboard', SeqKeyboardTransform(), feature),\n",
    "])"
   ]
  },
  {
   "cell_type": "code",
   "execution_count": 20,
   "metadata": {},
   "outputs": [],
   "source": [
    "pipeline = Pipeline([\n",
    "    ('preprocess', preprocess),\n",
    "    ('regressor', ExtraTreesRegressor(n_jobs=-1))\n",
    "])"
   ]
  },
  {
   "cell_type": "code",
   "execution_count": 21,
   "metadata": {},
   "outputs": [
    {
     "data": {
      "text/html": [
       "<style>#sk-container-id-1 {color: black;background-color: white;}#sk-container-id-1 pre{padding: 0;}#sk-container-id-1 div.sk-toggleable {background-color: white;}#sk-container-id-1 label.sk-toggleable__label {cursor: pointer;display: block;width: 100%;margin-bottom: 0;padding: 0.3em;box-sizing: border-box;text-align: center;}#sk-container-id-1 label.sk-toggleable__label-arrow:before {content: \"▸\";float: left;margin-right: 0.25em;color: #696969;}#sk-container-id-1 label.sk-toggleable__label-arrow:hover:before {color: black;}#sk-container-id-1 div.sk-estimator:hover label.sk-toggleable__label-arrow:before {color: black;}#sk-container-id-1 div.sk-toggleable__content {max-height: 0;max-width: 0;overflow: hidden;text-align: left;background-color: #f0f8ff;}#sk-container-id-1 div.sk-toggleable__content pre {margin: 0.2em;color: black;border-radius: 0.25em;background-color: #f0f8ff;}#sk-container-id-1 input.sk-toggleable__control:checked~div.sk-toggleable__content {max-height: 200px;max-width: 100%;overflow: auto;}#sk-container-id-1 input.sk-toggleable__control:checked~label.sk-toggleable__label-arrow:before {content: \"▾\";}#sk-container-id-1 div.sk-estimator input.sk-toggleable__control:checked~label.sk-toggleable__label {background-color: #d4ebff;}#sk-container-id-1 div.sk-label input.sk-toggleable__control:checked~label.sk-toggleable__label {background-color: #d4ebff;}#sk-container-id-1 input.sk-hidden--visually {border: 0;clip: rect(1px 1px 1px 1px);clip: rect(1px, 1px, 1px, 1px);height: 1px;margin: -1px;overflow: hidden;padding: 0;position: absolute;width: 1px;}#sk-container-id-1 div.sk-estimator {font-family: monospace;background-color: #f0f8ff;border: 1px dotted black;border-radius: 0.25em;box-sizing: border-box;margin-bottom: 0.5em;}#sk-container-id-1 div.sk-estimator:hover {background-color: #d4ebff;}#sk-container-id-1 div.sk-parallel-item::after {content: \"\";width: 100%;border-bottom: 1px solid gray;flex-grow: 1;}#sk-container-id-1 div.sk-label:hover label.sk-toggleable__label {background-color: #d4ebff;}#sk-container-id-1 div.sk-serial::before {content: \"\";position: absolute;border-left: 1px solid gray;box-sizing: border-box;top: 0;bottom: 0;left: 50%;z-index: 0;}#sk-container-id-1 div.sk-serial {display: flex;flex-direction: column;align-items: center;background-color: white;padding-right: 0.2em;padding-left: 0.2em;position: relative;}#sk-container-id-1 div.sk-item {position: relative;z-index: 1;}#sk-container-id-1 div.sk-parallel {display: flex;align-items: stretch;justify-content: center;background-color: white;position: relative;}#sk-container-id-1 div.sk-item::before, #sk-container-id-1 div.sk-parallel-item::before {content: \"\";position: absolute;border-left: 1px solid gray;box-sizing: border-box;top: 0;bottom: 0;left: 50%;z-index: -1;}#sk-container-id-1 div.sk-parallel-item {display: flex;flex-direction: column;z-index: 1;position: relative;background-color: white;}#sk-container-id-1 div.sk-parallel-item:first-child::after {align-self: flex-end;width: 50%;}#sk-container-id-1 div.sk-parallel-item:last-child::after {align-self: flex-start;width: 50%;}#sk-container-id-1 div.sk-parallel-item:only-child::after {width: 0;}#sk-container-id-1 div.sk-dashed-wrapped {border: 1px dashed gray;margin: 0 0.4em 0.5em 0.4em;box-sizing: border-box;padding-bottom: 0.4em;background-color: white;}#sk-container-id-1 div.sk-label label {font-family: monospace;font-weight: bold;display: inline-block;line-height: 1.2em;}#sk-container-id-1 div.sk-label-container {text-align: center;}#sk-container-id-1 div.sk-container {/* jupyter's `normalize.less` sets `[hidden] { display: none; }` but bootstrap.min.css set `[hidden] { display: none !important; }` so we also need the `!important` here to be able to override the default hidden behavior on the sphinx rendered scikit-learn.org. See: https://github.com/scikit-learn/scikit-learn/issues/21755 */display: inline-block !important;position: relative;}#sk-container-id-1 div.sk-text-repr-fallback {display: none;}</style><div id=\"sk-container-id-1\" class=\"sk-top-container\"><div class=\"sk-text-repr-fallback\"><pre>Pipeline(steps=[(&#x27;preprocess&#x27;,\n",
       "                 ColumnTransformer(transformers=[(&#x27;len&#x27;, LenTransform(),\n",
       "                                                  [&#x27;password&#x27;]),\n",
       "                                                 (&#x27;alpha_uc&#x27;,\n",
       "                                                  AlphaUCTransform(),\n",
       "                                                  [&#x27;password&#x27;]),\n",
       "                                                 (&#x27;alpha_lc&#x27;,\n",
       "                                                  AlphaLCTransform(),\n",
       "                                                  [&#x27;password&#x27;]),\n",
       "                                                 (&#x27;number&#x27;, NumberTransform(),\n",
       "                                                  [&#x27;password&#x27;]),\n",
       "                                                 (&#x27;symbol&#x27;, SymbolTransform(),\n",
       "                                                  [&#x27;password&#x27;]),\n",
       "                                                 (&#x27;mid_char&#x27;,\n",
       "                                                  MidCharTransform(),\n",
       "                                                  [&#x27;password&#x27;]),\n",
       "                                                 (&#x27;rep_char&#x27;,\n",
       "                                                  RepCharTransform(),\n",
       "                                                  [&#x27;...\n",
       "                                                 (&#x27;consec_alpha_lc&#x27;,\n",
       "                                                  ConsecAlphaLCTransform(),\n",
       "                                                  [&#x27;password&#x27;]),\n",
       "                                                 (&#x27;consec_number&#x27;,\n",
       "                                                  ConsecNumberTransform(),\n",
       "                                                  [&#x27;password&#x27;]),\n",
       "                                                 (&#x27;consec_symbol&#x27;,\n",
       "                                                  ConsecSymbolTransform(),\n",
       "                                                  [&#x27;password&#x27;]),\n",
       "                                                 (&#x27;seq_alpha&#x27;,\n",
       "                                                  SeqAlphaTransform(),\n",
       "                                                  [&#x27;password&#x27;]),\n",
       "                                                 (&#x27;seq_number&#x27;,\n",
       "                                                  SeqNumberTransform(),\n",
       "                                                  [&#x27;password&#x27;]),\n",
       "                                                 (&#x27;seq_keyboard&#x27;,\n",
       "                                                  SeqKeyboardTransform(),\n",
       "                                                  [&#x27;password&#x27;])])),\n",
       "                (&#x27;regressor&#x27;, ExtraTreesRegressor(n_jobs=-1))])</pre><b>In a Jupyter environment, please rerun this cell to show the HTML representation or trust the notebook. <br />On GitHub, the HTML representation is unable to render, please try loading this page with nbviewer.org.</b></div><div class=\"sk-container\" hidden><div class=\"sk-item sk-dashed-wrapped\"><div class=\"sk-label-container\"><div class=\"sk-label sk-toggleable\"><input class=\"sk-toggleable__control sk-hidden--visually\" id=\"sk-estimator-id-1\" type=\"checkbox\" ><label for=\"sk-estimator-id-1\" class=\"sk-toggleable__label sk-toggleable__label-arrow\">Pipeline</label><div class=\"sk-toggleable__content\"><pre>Pipeline(steps=[(&#x27;preprocess&#x27;,\n",
       "                 ColumnTransformer(transformers=[(&#x27;len&#x27;, LenTransform(),\n",
       "                                                  [&#x27;password&#x27;]),\n",
       "                                                 (&#x27;alpha_uc&#x27;,\n",
       "                                                  AlphaUCTransform(),\n",
       "                                                  [&#x27;password&#x27;]),\n",
       "                                                 (&#x27;alpha_lc&#x27;,\n",
       "                                                  AlphaLCTransform(),\n",
       "                                                  [&#x27;password&#x27;]),\n",
       "                                                 (&#x27;number&#x27;, NumberTransform(),\n",
       "                                                  [&#x27;password&#x27;]),\n",
       "                                                 (&#x27;symbol&#x27;, SymbolTransform(),\n",
       "                                                  [&#x27;password&#x27;]),\n",
       "                                                 (&#x27;mid_char&#x27;,\n",
       "                                                  MidCharTransform(),\n",
       "                                                  [&#x27;password&#x27;]),\n",
       "                                                 (&#x27;rep_char&#x27;,\n",
       "                                                  RepCharTransform(),\n",
       "                                                  [&#x27;...\n",
       "                                                 (&#x27;consec_alpha_lc&#x27;,\n",
       "                                                  ConsecAlphaLCTransform(),\n",
       "                                                  [&#x27;password&#x27;]),\n",
       "                                                 (&#x27;consec_number&#x27;,\n",
       "                                                  ConsecNumberTransform(),\n",
       "                                                  [&#x27;password&#x27;]),\n",
       "                                                 (&#x27;consec_symbol&#x27;,\n",
       "                                                  ConsecSymbolTransform(),\n",
       "                                                  [&#x27;password&#x27;]),\n",
       "                                                 (&#x27;seq_alpha&#x27;,\n",
       "                                                  SeqAlphaTransform(),\n",
       "                                                  [&#x27;password&#x27;]),\n",
       "                                                 (&#x27;seq_number&#x27;,\n",
       "                                                  SeqNumberTransform(),\n",
       "                                                  [&#x27;password&#x27;]),\n",
       "                                                 (&#x27;seq_keyboard&#x27;,\n",
       "                                                  SeqKeyboardTransform(),\n",
       "                                                  [&#x27;password&#x27;])])),\n",
       "                (&#x27;regressor&#x27;, ExtraTreesRegressor(n_jobs=-1))])</pre></div></div></div><div class=\"sk-serial\"><div class=\"sk-item sk-dashed-wrapped\"><div class=\"sk-label-container\"><div class=\"sk-label sk-toggleable\"><input class=\"sk-toggleable__control sk-hidden--visually\" id=\"sk-estimator-id-2\" type=\"checkbox\" ><label for=\"sk-estimator-id-2\" class=\"sk-toggleable__label sk-toggleable__label-arrow\">preprocess: ColumnTransformer</label><div class=\"sk-toggleable__content\"><pre>ColumnTransformer(transformers=[(&#x27;len&#x27;, LenTransform(), [&#x27;password&#x27;]),\n",
       "                                (&#x27;alpha_uc&#x27;, AlphaUCTransform(), [&#x27;password&#x27;]),\n",
       "                                (&#x27;alpha_lc&#x27;, AlphaLCTransform(), [&#x27;password&#x27;]),\n",
       "                                (&#x27;number&#x27;, NumberTransform(), [&#x27;password&#x27;]),\n",
       "                                (&#x27;symbol&#x27;, SymbolTransform(), [&#x27;password&#x27;]),\n",
       "                                (&#x27;mid_char&#x27;, MidCharTransform(), [&#x27;password&#x27;]),\n",
       "                                (&#x27;rep_char&#x27;, RepCharTransform(), [&#x27;password&#x27;]),\n",
       "                                (&#x27;unique_char&#x27;, Uni...\n",
       "                                (&#x27;consec_alpha_uc&#x27;, ConsecAlphaUCTransform(),\n",
       "                                 [&#x27;password&#x27;]),\n",
       "                                (&#x27;consec_alpha_lc&#x27;, ConsecAlphaLCTransform(),\n",
       "                                 [&#x27;password&#x27;]),\n",
       "                                (&#x27;consec_number&#x27;, ConsecNumberTransform(),\n",
       "                                 [&#x27;password&#x27;]),\n",
       "                                (&#x27;consec_symbol&#x27;, ConsecSymbolTransform(),\n",
       "                                 [&#x27;password&#x27;]),\n",
       "                                (&#x27;seq_alpha&#x27;, SeqAlphaTransform(),\n",
       "                                 [&#x27;password&#x27;]),\n",
       "                                (&#x27;seq_number&#x27;, SeqNumberTransform(),\n",
       "                                 [&#x27;password&#x27;]),\n",
       "                                (&#x27;seq_keyboard&#x27;, SeqKeyboardTransform(),\n",
       "                                 [&#x27;password&#x27;])])</pre></div></div></div><div class=\"sk-parallel\"><div class=\"sk-parallel-item\"><div class=\"sk-item\"><div class=\"sk-label-container\"><div class=\"sk-label sk-toggleable\"><input class=\"sk-toggleable__control sk-hidden--visually\" id=\"sk-estimator-id-3\" type=\"checkbox\" ><label for=\"sk-estimator-id-3\" class=\"sk-toggleable__label sk-toggleable__label-arrow\">len</label><div class=\"sk-toggleable__content\"><pre>[&#x27;password&#x27;]</pre></div></div></div><div class=\"sk-serial\"><div class=\"sk-item\"><div class=\"sk-estimator sk-toggleable\"><input class=\"sk-toggleable__control sk-hidden--visually\" id=\"sk-estimator-id-4\" type=\"checkbox\" ><label for=\"sk-estimator-id-4\" class=\"sk-toggleable__label sk-toggleable__label-arrow\">LenTransform</label><div class=\"sk-toggleable__content\"><pre>LenTransform()</pre></div></div></div></div></div></div><div class=\"sk-parallel-item\"><div class=\"sk-item\"><div class=\"sk-label-container\"><div class=\"sk-label sk-toggleable\"><input class=\"sk-toggleable__control sk-hidden--visually\" id=\"sk-estimator-id-5\" type=\"checkbox\" ><label for=\"sk-estimator-id-5\" class=\"sk-toggleable__label sk-toggleable__label-arrow\">alpha_uc</label><div class=\"sk-toggleable__content\"><pre>[&#x27;password&#x27;]</pre></div></div></div><div class=\"sk-serial\"><div class=\"sk-item\"><div class=\"sk-estimator sk-toggleable\"><input class=\"sk-toggleable__control sk-hidden--visually\" id=\"sk-estimator-id-6\" type=\"checkbox\" ><label for=\"sk-estimator-id-6\" class=\"sk-toggleable__label sk-toggleable__label-arrow\">AlphaUCTransform</label><div class=\"sk-toggleable__content\"><pre>AlphaUCTransform()</pre></div></div></div></div></div></div><div class=\"sk-parallel-item\"><div class=\"sk-item\"><div class=\"sk-label-container\"><div class=\"sk-label sk-toggleable\"><input class=\"sk-toggleable__control sk-hidden--visually\" id=\"sk-estimator-id-7\" type=\"checkbox\" ><label for=\"sk-estimator-id-7\" class=\"sk-toggleable__label sk-toggleable__label-arrow\">alpha_lc</label><div class=\"sk-toggleable__content\"><pre>[&#x27;password&#x27;]</pre></div></div></div><div class=\"sk-serial\"><div class=\"sk-item\"><div class=\"sk-estimator sk-toggleable\"><input class=\"sk-toggleable__control sk-hidden--visually\" id=\"sk-estimator-id-8\" type=\"checkbox\" ><label for=\"sk-estimator-id-8\" class=\"sk-toggleable__label sk-toggleable__label-arrow\">AlphaLCTransform</label><div class=\"sk-toggleable__content\"><pre>AlphaLCTransform()</pre></div></div></div></div></div></div><div class=\"sk-parallel-item\"><div class=\"sk-item\"><div class=\"sk-label-container\"><div class=\"sk-label sk-toggleable\"><input class=\"sk-toggleable__control sk-hidden--visually\" id=\"sk-estimator-id-9\" type=\"checkbox\" ><label for=\"sk-estimator-id-9\" class=\"sk-toggleable__label sk-toggleable__label-arrow\">number</label><div class=\"sk-toggleable__content\"><pre>[&#x27;password&#x27;]</pre></div></div></div><div class=\"sk-serial\"><div class=\"sk-item\"><div class=\"sk-estimator sk-toggleable\"><input class=\"sk-toggleable__control sk-hidden--visually\" id=\"sk-estimator-id-10\" type=\"checkbox\" ><label for=\"sk-estimator-id-10\" class=\"sk-toggleable__label sk-toggleable__label-arrow\">NumberTransform</label><div class=\"sk-toggleable__content\"><pre>NumberTransform()</pre></div></div></div></div></div></div><div class=\"sk-parallel-item\"><div class=\"sk-item\"><div class=\"sk-label-container\"><div class=\"sk-label sk-toggleable\"><input class=\"sk-toggleable__control sk-hidden--visually\" id=\"sk-estimator-id-11\" type=\"checkbox\" ><label for=\"sk-estimator-id-11\" class=\"sk-toggleable__label sk-toggleable__label-arrow\">symbol</label><div class=\"sk-toggleable__content\"><pre>[&#x27;password&#x27;]</pre></div></div></div><div class=\"sk-serial\"><div class=\"sk-item\"><div class=\"sk-estimator sk-toggleable\"><input class=\"sk-toggleable__control sk-hidden--visually\" id=\"sk-estimator-id-12\" type=\"checkbox\" ><label for=\"sk-estimator-id-12\" class=\"sk-toggleable__label sk-toggleable__label-arrow\">SymbolTransform</label><div class=\"sk-toggleable__content\"><pre>SymbolTransform()</pre></div></div></div></div></div></div><div class=\"sk-parallel-item\"><div class=\"sk-item\"><div class=\"sk-label-container\"><div class=\"sk-label sk-toggleable\"><input class=\"sk-toggleable__control sk-hidden--visually\" id=\"sk-estimator-id-13\" type=\"checkbox\" ><label for=\"sk-estimator-id-13\" class=\"sk-toggleable__label sk-toggleable__label-arrow\">mid_char</label><div class=\"sk-toggleable__content\"><pre>[&#x27;password&#x27;]</pre></div></div></div><div class=\"sk-serial\"><div class=\"sk-item\"><div class=\"sk-estimator sk-toggleable\"><input class=\"sk-toggleable__control sk-hidden--visually\" id=\"sk-estimator-id-14\" type=\"checkbox\" ><label for=\"sk-estimator-id-14\" class=\"sk-toggleable__label sk-toggleable__label-arrow\">MidCharTransform</label><div class=\"sk-toggleable__content\"><pre>MidCharTransform()</pre></div></div></div></div></div></div><div class=\"sk-parallel-item\"><div class=\"sk-item\"><div class=\"sk-label-container\"><div class=\"sk-label sk-toggleable\"><input class=\"sk-toggleable__control sk-hidden--visually\" id=\"sk-estimator-id-15\" type=\"checkbox\" ><label for=\"sk-estimator-id-15\" class=\"sk-toggleable__label sk-toggleable__label-arrow\">rep_char</label><div class=\"sk-toggleable__content\"><pre>[&#x27;password&#x27;]</pre></div></div></div><div class=\"sk-serial\"><div class=\"sk-item\"><div class=\"sk-estimator sk-toggleable\"><input class=\"sk-toggleable__control sk-hidden--visually\" id=\"sk-estimator-id-16\" type=\"checkbox\" ><label for=\"sk-estimator-id-16\" class=\"sk-toggleable__label sk-toggleable__label-arrow\">RepCharTransform</label><div class=\"sk-toggleable__content\"><pre>RepCharTransform()</pre></div></div></div></div></div></div><div class=\"sk-parallel-item\"><div class=\"sk-item\"><div class=\"sk-label-container\"><div class=\"sk-label sk-toggleable\"><input class=\"sk-toggleable__control sk-hidden--visually\" id=\"sk-estimator-id-17\" type=\"checkbox\" ><label for=\"sk-estimator-id-17\" class=\"sk-toggleable__label sk-toggleable__label-arrow\">unique_char</label><div class=\"sk-toggleable__content\"><pre>[&#x27;password&#x27;]</pre></div></div></div><div class=\"sk-serial\"><div class=\"sk-item\"><div class=\"sk-estimator sk-toggleable\"><input class=\"sk-toggleable__control sk-hidden--visually\" id=\"sk-estimator-id-18\" type=\"checkbox\" ><label for=\"sk-estimator-id-18\" class=\"sk-toggleable__label sk-toggleable__label-arrow\">UniqueCharTransform</label><div class=\"sk-toggleable__content\"><pre>UniqueCharTransform()</pre></div></div></div></div></div></div><div class=\"sk-parallel-item\"><div class=\"sk-item\"><div class=\"sk-label-container\"><div class=\"sk-label sk-toggleable\"><input class=\"sk-toggleable__control sk-hidden--visually\" id=\"sk-estimator-id-19\" type=\"checkbox\" ><label for=\"sk-estimator-id-19\" class=\"sk-toggleable__label sk-toggleable__label-arrow\">consec_alpha_uc</label><div class=\"sk-toggleable__content\"><pre>[&#x27;password&#x27;]</pre></div></div></div><div class=\"sk-serial\"><div class=\"sk-item\"><div class=\"sk-estimator sk-toggleable\"><input class=\"sk-toggleable__control sk-hidden--visually\" id=\"sk-estimator-id-20\" type=\"checkbox\" ><label for=\"sk-estimator-id-20\" class=\"sk-toggleable__label sk-toggleable__label-arrow\">ConsecAlphaUCTransform</label><div class=\"sk-toggleable__content\"><pre>ConsecAlphaUCTransform()</pre></div></div></div></div></div></div><div class=\"sk-parallel-item\"><div class=\"sk-item\"><div class=\"sk-label-container\"><div class=\"sk-label sk-toggleable\"><input class=\"sk-toggleable__control sk-hidden--visually\" id=\"sk-estimator-id-21\" type=\"checkbox\" ><label for=\"sk-estimator-id-21\" class=\"sk-toggleable__label sk-toggleable__label-arrow\">consec_alpha_lc</label><div class=\"sk-toggleable__content\"><pre>[&#x27;password&#x27;]</pre></div></div></div><div class=\"sk-serial\"><div class=\"sk-item\"><div class=\"sk-estimator sk-toggleable\"><input class=\"sk-toggleable__control sk-hidden--visually\" id=\"sk-estimator-id-22\" type=\"checkbox\" ><label for=\"sk-estimator-id-22\" class=\"sk-toggleable__label sk-toggleable__label-arrow\">ConsecAlphaLCTransform</label><div class=\"sk-toggleable__content\"><pre>ConsecAlphaLCTransform()</pre></div></div></div></div></div></div><div class=\"sk-parallel-item\"><div class=\"sk-item\"><div class=\"sk-label-container\"><div class=\"sk-label sk-toggleable\"><input class=\"sk-toggleable__control sk-hidden--visually\" id=\"sk-estimator-id-23\" type=\"checkbox\" ><label for=\"sk-estimator-id-23\" class=\"sk-toggleable__label sk-toggleable__label-arrow\">consec_number</label><div class=\"sk-toggleable__content\"><pre>[&#x27;password&#x27;]</pre></div></div></div><div class=\"sk-serial\"><div class=\"sk-item\"><div class=\"sk-estimator sk-toggleable\"><input class=\"sk-toggleable__control sk-hidden--visually\" id=\"sk-estimator-id-24\" type=\"checkbox\" ><label for=\"sk-estimator-id-24\" class=\"sk-toggleable__label sk-toggleable__label-arrow\">ConsecNumberTransform</label><div class=\"sk-toggleable__content\"><pre>ConsecNumberTransform()</pre></div></div></div></div></div></div><div class=\"sk-parallel-item\"><div class=\"sk-item\"><div class=\"sk-label-container\"><div class=\"sk-label sk-toggleable\"><input class=\"sk-toggleable__control sk-hidden--visually\" id=\"sk-estimator-id-25\" type=\"checkbox\" ><label for=\"sk-estimator-id-25\" class=\"sk-toggleable__label sk-toggleable__label-arrow\">consec_symbol</label><div class=\"sk-toggleable__content\"><pre>[&#x27;password&#x27;]</pre></div></div></div><div class=\"sk-serial\"><div class=\"sk-item\"><div class=\"sk-estimator sk-toggleable\"><input class=\"sk-toggleable__control sk-hidden--visually\" id=\"sk-estimator-id-26\" type=\"checkbox\" ><label for=\"sk-estimator-id-26\" class=\"sk-toggleable__label sk-toggleable__label-arrow\">ConsecSymbolTransform</label><div class=\"sk-toggleable__content\"><pre>ConsecSymbolTransform()</pre></div></div></div></div></div></div><div class=\"sk-parallel-item\"><div class=\"sk-item\"><div class=\"sk-label-container\"><div class=\"sk-label sk-toggleable\"><input class=\"sk-toggleable__control sk-hidden--visually\" id=\"sk-estimator-id-27\" type=\"checkbox\" ><label for=\"sk-estimator-id-27\" class=\"sk-toggleable__label sk-toggleable__label-arrow\">seq_alpha</label><div class=\"sk-toggleable__content\"><pre>[&#x27;password&#x27;]</pre></div></div></div><div class=\"sk-serial\"><div class=\"sk-item\"><div class=\"sk-estimator sk-toggleable\"><input class=\"sk-toggleable__control sk-hidden--visually\" id=\"sk-estimator-id-28\" type=\"checkbox\" ><label for=\"sk-estimator-id-28\" class=\"sk-toggleable__label sk-toggleable__label-arrow\">SeqAlphaTransform</label><div class=\"sk-toggleable__content\"><pre>SeqAlphaTransform()</pre></div></div></div></div></div></div><div class=\"sk-parallel-item\"><div class=\"sk-item\"><div class=\"sk-label-container\"><div class=\"sk-label sk-toggleable\"><input class=\"sk-toggleable__control sk-hidden--visually\" id=\"sk-estimator-id-29\" type=\"checkbox\" ><label for=\"sk-estimator-id-29\" class=\"sk-toggleable__label sk-toggleable__label-arrow\">seq_number</label><div class=\"sk-toggleable__content\"><pre>[&#x27;password&#x27;]</pre></div></div></div><div class=\"sk-serial\"><div class=\"sk-item\"><div class=\"sk-estimator sk-toggleable\"><input class=\"sk-toggleable__control sk-hidden--visually\" id=\"sk-estimator-id-30\" type=\"checkbox\" ><label for=\"sk-estimator-id-30\" class=\"sk-toggleable__label sk-toggleable__label-arrow\">SeqNumberTransform</label><div class=\"sk-toggleable__content\"><pre>SeqNumberTransform()</pre></div></div></div></div></div></div><div class=\"sk-parallel-item\"><div class=\"sk-item\"><div class=\"sk-label-container\"><div class=\"sk-label sk-toggleable\"><input class=\"sk-toggleable__control sk-hidden--visually\" id=\"sk-estimator-id-31\" type=\"checkbox\" ><label for=\"sk-estimator-id-31\" class=\"sk-toggleable__label sk-toggleable__label-arrow\">seq_keyboard</label><div class=\"sk-toggleable__content\"><pre>[&#x27;password&#x27;]</pre></div></div></div><div class=\"sk-serial\"><div class=\"sk-item\"><div class=\"sk-estimator sk-toggleable\"><input class=\"sk-toggleable__control sk-hidden--visually\" id=\"sk-estimator-id-32\" type=\"checkbox\" ><label for=\"sk-estimator-id-32\" class=\"sk-toggleable__label sk-toggleable__label-arrow\">SeqKeyboardTransform</label><div class=\"sk-toggleable__content\"><pre>SeqKeyboardTransform()</pre></div></div></div></div></div></div></div></div><div class=\"sk-item\"><div class=\"sk-estimator sk-toggleable\"><input class=\"sk-toggleable__control sk-hidden--visually\" id=\"sk-estimator-id-33\" type=\"checkbox\" ><label for=\"sk-estimator-id-33\" class=\"sk-toggleable__label sk-toggleable__label-arrow\">ExtraTreesRegressor</label><div class=\"sk-toggleable__content\"><pre>ExtraTreesRegressor(n_jobs=-1)</pre></div></div></div></div></div></div></div>"
      ],
      "text/plain": [
       "Pipeline(steps=[('preprocess',\n",
       "                 ColumnTransformer(transformers=[('len', LenTransform(),\n",
       "                                                  ['password']),\n",
       "                                                 ('alpha_uc',\n",
       "                                                  AlphaUCTransform(),\n",
       "                                                  ['password']),\n",
       "                                                 ('alpha_lc',\n",
       "                                                  AlphaLCTransform(),\n",
       "                                                  ['password']),\n",
       "                                                 ('number', NumberTransform(),\n",
       "                                                  ['password']),\n",
       "                                                 ('symbol', SymbolTransform(),\n",
       "                                                  ['password']),\n",
       "                                                 ('mid_char',\n",
       "                                                  MidCharTransform(),\n",
       "                                                  ['password']),\n",
       "                                                 ('rep_char',\n",
       "                                                  RepCharTransform(),\n",
       "                                                  ['...\n",
       "                                                 ('consec_alpha_lc',\n",
       "                                                  ConsecAlphaLCTransform(),\n",
       "                                                  ['password']),\n",
       "                                                 ('consec_number',\n",
       "                                                  ConsecNumberTransform(),\n",
       "                                                  ['password']),\n",
       "                                                 ('consec_symbol',\n",
       "                                                  ConsecSymbolTransform(),\n",
       "                                                  ['password']),\n",
       "                                                 ('seq_alpha',\n",
       "                                                  SeqAlphaTransform(),\n",
       "                                                  ['password']),\n",
       "                                                 ('seq_number',\n",
       "                                                  SeqNumberTransform(),\n",
       "                                                  ['password']),\n",
       "                                                 ('seq_keyboard',\n",
       "                                                  SeqKeyboardTransform(),\n",
       "                                                  ['password'])])),\n",
       "                ('regressor', ExtraTreesRegressor(n_jobs=-1))])"
      ]
     },
     "execution_count": 21,
     "metadata": {},
     "output_type": "execute_result"
    }
   ],
   "source": [
    "pipeline"
   ]
  },
  {
   "cell_type": "code",
   "execution_count": 22,
   "metadata": {},
   "outputs": [],
   "source": [
    "X_train_df = X_train.to_frame()\n",
    "X_test_df = X_test.to_frame()"
   ]
  },
  {
   "cell_type": "code",
   "execution_count": 23,
   "metadata": {},
   "outputs": [],
   "source": [
    "k_fold = KFold(n_splits=10, shuffle=True, random_state=42)"
   ]
  },
  {
   "cell_type": "code",
   "execution_count": 24,
   "metadata": {},
   "outputs": [
    {
     "name": "stdout",
     "output_type": "stream",
     "text": [
      "Train model\n",
      "Fold: 0\tMAE: 0.0002\tMSE: 0.0000\tRMSE: 0.0009\tR2: 1.0000\tTT: 1.9374\n",
      "Fold: 1\tMAE: 0.0003\tMSE: 0.0000\tRMSE: 0.0038\tR2: 0.9998\tTT: 1.9686\n",
      "Fold: 2\tMAE: 0.0004\tMSE: 0.0000\tRMSE: 0.0025\tR2: 0.9999\tTT: 1.4158\n",
      "Fold: 3\tMAE: 0.0002\tMSE: 0.0000\tRMSE: 0.0011\tR2: 1.0000\tTT: 1.3921\n",
      "Fold: 4\tMAE: 0.0002\tMSE: 0.0000\tRMSE: 0.0015\tR2: 1.0000\tTT: 2.0610\n",
      "Fold: 5\tMAE: 0.0002\tMSE: 0.0000\tRMSE: 0.0017\tR2: 1.0000\tTT: 2.1899\n",
      "Fold: 6\tMAE: 0.0003\tMSE: 0.0000\tRMSE: 0.0033\tR2: 0.9998\tTT: 2.0749\n",
      "Fold: 7\tMAE: 0.0004\tMSE: 0.0000\tRMSE: 0.0041\tR2: 0.9998\tTT: 1.7467\n",
      "Fold: 8\tMAE: 0.0004\tMSE: 0.0000\tRMSE: 0.0049\tR2: 0.9996\tTT: 1.7480\n",
      "Fold: 9\tMAE: 0.0002\tMSE: 0.0000\tRMSE: 0.0017\tR2: 1.0000\tTT: 1.8086\n",
      "\n",
      "Test model\n",
      "Fold: -\tMAE: 0.0002\tMSE: 0.0000\tRMSE: 0.0026\tR2: 0.9999\tTT: 0.4320\n"
     ]
    }
   ],
   "source": [
    "mae_scores = []\n",
    "mse_scores = []\n",
    "rmse_scores = []\n",
    "r2_scores = []\n",
    "tt_scores = []\n",
    "\n",
    "print(\"Train model\")\n",
    "\n",
    "for k, (train_index, val_index) in enumerate(k_fold.split(X_train, y_train)):\n",
    "    X_train_fold, X_val_fold = X_train_df.iloc[train_index], X_train_df.iloc[val_index]\n",
    "    y_train_fold, y_val_fold = y_train.iloc[train_index], y_train.iloc[val_index]\n",
    "\n",
    "    start_time = time.time()\n",
    "    pipeline.fit(X_train_fold, y_train_fold)\n",
    "    y_pred = pipeline.predict(X_val_fold)\n",
    "    end_time = time.time()\n",
    "\n",
    "    mae_scores.append(round(mean_absolute_error(y_val_fold, y_pred), 4))\n",
    "    mse_scores.append(round(mean_squared_error(y_val_fold, y_pred), 4))\n",
    "    rmse_scores.append(round(mean_squared_error(y_val_fold, y_pred, squared=False), 4))\n",
    "    r2_scores.append(round(r2_score(y_val_fold, y_pred), 4))\n",
    "    tt_scores.append(round(end_time - start_time, 4))\n",
    "\n",
    "    print(\n",
    "        f\"Fold: {k}\\tMAE: {mae_scores[-1]:.4f}\\tMSE: {mse_scores[-1]:.4f}\\tRMSE: {rmse_scores[-1]:.4f}\\tR2: {r2_scores[-1]:.4f}\\tTT: {tt_scores[-1]:.4f}\"\n",
    "    )\n",
    "\n",
    "print(\"\\nTest model\")\n",
    "start_time = time.time()\n",
    "y_pred = pipeline.predict(X_test_df)\n",
    "end_time = time.time()\n",
    "\n",
    "mae_scores.append(round(mean_absolute_error(y_test, y_pred), 4))\n",
    "mse_scores.append(round(mean_squared_error(y_test, y_pred), 4))\n",
    "rmse_scores.append(round(mean_squared_error(y_test, y_pred, squared=False), 4))\n",
    "r2_scores.append(round(r2_score(y_test, y_pred), 4))\n",
    "tt_scores.append(round(end_time - start_time, 4))\n",
    "\n",
    "print(\n",
    "    f\"Fold: -\\tMAE: {mae_scores[-1]:.4f}\\tMSE: {mse_scores[-1]:.4f}\\tRMSE: {rmse_scores[-1]:.4f}\\tR2: {r2_scores[-1]:.4f}\\tTT: {tt_scores[-1]:.4f}\"\n",
    ")"
   ]
  },
  {
   "cell_type": "code",
   "execution_count": 38,
   "metadata": {},
   "outputs": [],
   "source": [
    "from sklearn.model_selection import GridSearchCV"
   ]
  },
  {
   "cell_type": "code",
   "execution_count": 39,
   "metadata": {},
   "outputs": [],
   "source": [
    "param_grid = {\n",
    "    'regressor__n_estimators': [1,5,10,20,50,75,100,150,200]\n",
    "}"
   ]
  },
  {
   "cell_type": "code",
   "execution_count": 40,
   "metadata": {},
   "outputs": [],
   "source": [
    "grid_search = GridSearchCV(pipeline, param_grid, scoring='r2', error_score='raise')"
   ]
  },
  {
   "cell_type": "code",
   "execution_count": 42,
   "metadata": {},
   "outputs": [
    {
     "data": {
      "text/html": [
       "<style>#sk-container-id-2 {color: black;background-color: white;}#sk-container-id-2 pre{padding: 0;}#sk-container-id-2 div.sk-toggleable {background-color: white;}#sk-container-id-2 label.sk-toggleable__label {cursor: pointer;display: block;width: 100%;margin-bottom: 0;padding: 0.3em;box-sizing: border-box;text-align: center;}#sk-container-id-2 label.sk-toggleable__label-arrow:before {content: \"▸\";float: left;margin-right: 0.25em;color: #696969;}#sk-container-id-2 label.sk-toggleable__label-arrow:hover:before {color: black;}#sk-container-id-2 div.sk-estimator:hover label.sk-toggleable__label-arrow:before {color: black;}#sk-container-id-2 div.sk-toggleable__content {max-height: 0;max-width: 0;overflow: hidden;text-align: left;background-color: #f0f8ff;}#sk-container-id-2 div.sk-toggleable__content pre {margin: 0.2em;color: black;border-radius: 0.25em;background-color: #f0f8ff;}#sk-container-id-2 input.sk-toggleable__control:checked~div.sk-toggleable__content {max-height: 200px;max-width: 100%;overflow: auto;}#sk-container-id-2 input.sk-toggleable__control:checked~label.sk-toggleable__label-arrow:before {content: \"▾\";}#sk-container-id-2 div.sk-estimator input.sk-toggleable__control:checked~label.sk-toggleable__label {background-color: #d4ebff;}#sk-container-id-2 div.sk-label input.sk-toggleable__control:checked~label.sk-toggleable__label {background-color: #d4ebff;}#sk-container-id-2 input.sk-hidden--visually {border: 0;clip: rect(1px 1px 1px 1px);clip: rect(1px, 1px, 1px, 1px);height: 1px;margin: -1px;overflow: hidden;padding: 0;position: absolute;width: 1px;}#sk-container-id-2 div.sk-estimator {font-family: monospace;background-color: #f0f8ff;border: 1px dotted black;border-radius: 0.25em;box-sizing: border-box;margin-bottom: 0.5em;}#sk-container-id-2 div.sk-estimator:hover {background-color: #d4ebff;}#sk-container-id-2 div.sk-parallel-item::after {content: \"\";width: 100%;border-bottom: 1px solid gray;flex-grow: 1;}#sk-container-id-2 div.sk-label:hover label.sk-toggleable__label {background-color: #d4ebff;}#sk-container-id-2 div.sk-serial::before {content: \"\";position: absolute;border-left: 1px solid gray;box-sizing: border-box;top: 0;bottom: 0;left: 50%;z-index: 0;}#sk-container-id-2 div.sk-serial {display: flex;flex-direction: column;align-items: center;background-color: white;padding-right: 0.2em;padding-left: 0.2em;position: relative;}#sk-container-id-2 div.sk-item {position: relative;z-index: 1;}#sk-container-id-2 div.sk-parallel {display: flex;align-items: stretch;justify-content: center;background-color: white;position: relative;}#sk-container-id-2 div.sk-item::before, #sk-container-id-2 div.sk-parallel-item::before {content: \"\";position: absolute;border-left: 1px solid gray;box-sizing: border-box;top: 0;bottom: 0;left: 50%;z-index: -1;}#sk-container-id-2 div.sk-parallel-item {display: flex;flex-direction: column;z-index: 1;position: relative;background-color: white;}#sk-container-id-2 div.sk-parallel-item:first-child::after {align-self: flex-end;width: 50%;}#sk-container-id-2 div.sk-parallel-item:last-child::after {align-self: flex-start;width: 50%;}#sk-container-id-2 div.sk-parallel-item:only-child::after {width: 0;}#sk-container-id-2 div.sk-dashed-wrapped {border: 1px dashed gray;margin: 0 0.4em 0.5em 0.4em;box-sizing: border-box;padding-bottom: 0.4em;background-color: white;}#sk-container-id-2 div.sk-label label {font-family: monospace;font-weight: bold;display: inline-block;line-height: 1.2em;}#sk-container-id-2 div.sk-label-container {text-align: center;}#sk-container-id-2 div.sk-container {/* jupyter's `normalize.less` sets `[hidden] { display: none; }` but bootstrap.min.css set `[hidden] { display: none !important; }` so we also need the `!important` here to be able to override the default hidden behavior on the sphinx rendered scikit-learn.org. See: https://github.com/scikit-learn/scikit-learn/issues/21755 */display: inline-block !important;position: relative;}#sk-container-id-2 div.sk-text-repr-fallback {display: none;}</style><div id=\"sk-container-id-2\" class=\"sk-top-container\"><div class=\"sk-text-repr-fallback\"><pre>GridSearchCV(error_score=&#x27;raise&#x27;,\n",
       "             estimator=Pipeline(steps=[(&#x27;preprocess&#x27;,\n",
       "                                        ColumnTransformer(transformers=[(&#x27;len&#x27;,\n",
       "                                                                         LenTransform(),\n",
       "                                                                         [&#x27;password&#x27;]),\n",
       "                                                                        (&#x27;alpha_uc&#x27;,\n",
       "                                                                         AlphaUCTransform(),\n",
       "                                                                         [&#x27;password&#x27;]),\n",
       "                                                                        (&#x27;alpha_lc&#x27;,\n",
       "                                                                         AlphaLCTransform(),\n",
       "                                                                         [&#x27;password&#x27;]),\n",
       "                                                                        (&#x27;number&#x27;,\n",
       "                                                                         NumberTransform(),\n",
       "                                                                         [&#x27;password&#x27;]),\n",
       "                                                                        (&#x27;symbol&#x27;,\n",
       "                                                                         SymbolTransform(),\n",
       "                                                                         [&#x27;password&#x27;]),\n",
       "                                                                        (&#x27;mid_char&#x27;,\n",
       "                                                                         MidCharTransform(),\n",
       "                                                                         [&#x27;pa...\n",
       "                                                                         [&#x27;password&#x27;]),\n",
       "                                                                        (&#x27;consec_symbol&#x27;,\n",
       "                                                                         ConsecSymbolTransform(),\n",
       "                                                                         [&#x27;password&#x27;]),\n",
       "                                                                        (&#x27;seq_alpha&#x27;,\n",
       "                                                                         SeqAlphaTransform(),\n",
       "                                                                         [&#x27;password&#x27;]),\n",
       "                                                                        (&#x27;seq_number&#x27;,\n",
       "                                                                         SeqNumberTransform(),\n",
       "                                                                         [&#x27;password&#x27;]),\n",
       "                                                                        (&#x27;seq_keyboard&#x27;,\n",
       "                                                                         SeqKeyboardTransform(),\n",
       "                                                                         [&#x27;password&#x27;])])),\n",
       "                                       (&#x27;regressor&#x27;,\n",
       "                                        ExtraTreesRegressor(n_jobs=-1))]),\n",
       "             param_grid={&#x27;regressor__n_estimators&#x27;: [1, 5, 10, 20, 50, 75, 100,\n",
       "                                                     150, 200]},\n",
       "             scoring=&#x27;r2&#x27;)</pre><b>In a Jupyter environment, please rerun this cell to show the HTML representation or trust the notebook. <br />On GitHub, the HTML representation is unable to render, please try loading this page with nbviewer.org.</b></div><div class=\"sk-container\" hidden><div class=\"sk-item sk-dashed-wrapped\"><div class=\"sk-label-container\"><div class=\"sk-label sk-toggleable\"><input class=\"sk-toggleable__control sk-hidden--visually\" id=\"sk-estimator-id-34\" type=\"checkbox\" ><label for=\"sk-estimator-id-34\" class=\"sk-toggleable__label sk-toggleable__label-arrow\">GridSearchCV</label><div class=\"sk-toggleable__content\"><pre>GridSearchCV(error_score=&#x27;raise&#x27;,\n",
       "             estimator=Pipeline(steps=[(&#x27;preprocess&#x27;,\n",
       "                                        ColumnTransformer(transformers=[(&#x27;len&#x27;,\n",
       "                                                                         LenTransform(),\n",
       "                                                                         [&#x27;password&#x27;]),\n",
       "                                                                        (&#x27;alpha_uc&#x27;,\n",
       "                                                                         AlphaUCTransform(),\n",
       "                                                                         [&#x27;password&#x27;]),\n",
       "                                                                        (&#x27;alpha_lc&#x27;,\n",
       "                                                                         AlphaLCTransform(),\n",
       "                                                                         [&#x27;password&#x27;]),\n",
       "                                                                        (&#x27;number&#x27;,\n",
       "                                                                         NumberTransform(),\n",
       "                                                                         [&#x27;password&#x27;]),\n",
       "                                                                        (&#x27;symbol&#x27;,\n",
       "                                                                         SymbolTransform(),\n",
       "                                                                         [&#x27;password&#x27;]),\n",
       "                                                                        (&#x27;mid_char&#x27;,\n",
       "                                                                         MidCharTransform(),\n",
       "                                                                         [&#x27;pa...\n",
       "                                                                         [&#x27;password&#x27;]),\n",
       "                                                                        (&#x27;consec_symbol&#x27;,\n",
       "                                                                         ConsecSymbolTransform(),\n",
       "                                                                         [&#x27;password&#x27;]),\n",
       "                                                                        (&#x27;seq_alpha&#x27;,\n",
       "                                                                         SeqAlphaTransform(),\n",
       "                                                                         [&#x27;password&#x27;]),\n",
       "                                                                        (&#x27;seq_number&#x27;,\n",
       "                                                                         SeqNumberTransform(),\n",
       "                                                                         [&#x27;password&#x27;]),\n",
       "                                                                        (&#x27;seq_keyboard&#x27;,\n",
       "                                                                         SeqKeyboardTransform(),\n",
       "                                                                         [&#x27;password&#x27;])])),\n",
       "                                       (&#x27;regressor&#x27;,\n",
       "                                        ExtraTreesRegressor(n_jobs=-1))]),\n",
       "             param_grid={&#x27;regressor__n_estimators&#x27;: [1, 5, 10, 20, 50, 75, 100,\n",
       "                                                     150, 200]},\n",
       "             scoring=&#x27;r2&#x27;)</pre></div></div></div><div class=\"sk-parallel\"><div class=\"sk-parallel-item\"><div class=\"sk-item\"><div class=\"sk-label-container\"><div class=\"sk-label sk-toggleable\"><input class=\"sk-toggleable__control sk-hidden--visually\" id=\"sk-estimator-id-35\" type=\"checkbox\" ><label for=\"sk-estimator-id-35\" class=\"sk-toggleable__label sk-toggleable__label-arrow\">estimator: Pipeline</label><div class=\"sk-toggleable__content\"><pre>Pipeline(steps=[(&#x27;preprocess&#x27;,\n",
       "                 ColumnTransformer(transformers=[(&#x27;len&#x27;, LenTransform(),\n",
       "                                                  [&#x27;password&#x27;]),\n",
       "                                                 (&#x27;alpha_uc&#x27;,\n",
       "                                                  AlphaUCTransform(),\n",
       "                                                  [&#x27;password&#x27;]),\n",
       "                                                 (&#x27;alpha_lc&#x27;,\n",
       "                                                  AlphaLCTransform(),\n",
       "                                                  [&#x27;password&#x27;]),\n",
       "                                                 (&#x27;number&#x27;, NumberTransform(),\n",
       "                                                  [&#x27;password&#x27;]),\n",
       "                                                 (&#x27;symbol&#x27;, SymbolTransform(),\n",
       "                                                  [&#x27;password&#x27;]),\n",
       "                                                 (&#x27;mid_char&#x27;,\n",
       "                                                  MidCharTransform(),\n",
       "                                                  [&#x27;password&#x27;]),\n",
       "                                                 (&#x27;rep_char&#x27;,\n",
       "                                                  RepCharTransform(),\n",
       "                                                  [&#x27;...\n",
       "                                                 (&#x27;consec_alpha_lc&#x27;,\n",
       "                                                  ConsecAlphaLCTransform(),\n",
       "                                                  [&#x27;password&#x27;]),\n",
       "                                                 (&#x27;consec_number&#x27;,\n",
       "                                                  ConsecNumberTransform(),\n",
       "                                                  [&#x27;password&#x27;]),\n",
       "                                                 (&#x27;consec_symbol&#x27;,\n",
       "                                                  ConsecSymbolTransform(),\n",
       "                                                  [&#x27;password&#x27;]),\n",
       "                                                 (&#x27;seq_alpha&#x27;,\n",
       "                                                  SeqAlphaTransform(),\n",
       "                                                  [&#x27;password&#x27;]),\n",
       "                                                 (&#x27;seq_number&#x27;,\n",
       "                                                  SeqNumberTransform(),\n",
       "                                                  [&#x27;password&#x27;]),\n",
       "                                                 (&#x27;seq_keyboard&#x27;,\n",
       "                                                  SeqKeyboardTransform(),\n",
       "                                                  [&#x27;password&#x27;])])),\n",
       "                (&#x27;regressor&#x27;, ExtraTreesRegressor(n_jobs=-1))])</pre></div></div></div><div class=\"sk-serial\"><div class=\"sk-item\"><div class=\"sk-serial\"><div class=\"sk-item sk-dashed-wrapped\"><div class=\"sk-label-container\"><div class=\"sk-label sk-toggleable\"><input class=\"sk-toggleable__control sk-hidden--visually\" id=\"sk-estimator-id-36\" type=\"checkbox\" ><label for=\"sk-estimator-id-36\" class=\"sk-toggleable__label sk-toggleable__label-arrow\">preprocess: ColumnTransformer</label><div class=\"sk-toggleable__content\"><pre>ColumnTransformer(transformers=[(&#x27;len&#x27;, LenTransform(), [&#x27;password&#x27;]),\n",
       "                                (&#x27;alpha_uc&#x27;, AlphaUCTransform(), [&#x27;password&#x27;]),\n",
       "                                (&#x27;alpha_lc&#x27;, AlphaLCTransform(), [&#x27;password&#x27;]),\n",
       "                                (&#x27;number&#x27;, NumberTransform(), [&#x27;password&#x27;]),\n",
       "                                (&#x27;symbol&#x27;, SymbolTransform(), [&#x27;password&#x27;]),\n",
       "                                (&#x27;mid_char&#x27;, MidCharTransform(), [&#x27;password&#x27;]),\n",
       "                                (&#x27;rep_char&#x27;, RepCharTransform(), [&#x27;password&#x27;]),\n",
       "                                (&#x27;unique_char&#x27;, Uni...\n",
       "                                (&#x27;consec_alpha_uc&#x27;, ConsecAlphaUCTransform(),\n",
       "                                 [&#x27;password&#x27;]),\n",
       "                                (&#x27;consec_alpha_lc&#x27;, ConsecAlphaLCTransform(),\n",
       "                                 [&#x27;password&#x27;]),\n",
       "                                (&#x27;consec_number&#x27;, ConsecNumberTransform(),\n",
       "                                 [&#x27;password&#x27;]),\n",
       "                                (&#x27;consec_symbol&#x27;, ConsecSymbolTransform(),\n",
       "                                 [&#x27;password&#x27;]),\n",
       "                                (&#x27;seq_alpha&#x27;, SeqAlphaTransform(),\n",
       "                                 [&#x27;password&#x27;]),\n",
       "                                (&#x27;seq_number&#x27;, SeqNumberTransform(),\n",
       "                                 [&#x27;password&#x27;]),\n",
       "                                (&#x27;seq_keyboard&#x27;, SeqKeyboardTransform(),\n",
       "                                 [&#x27;password&#x27;])])</pre></div></div></div><div class=\"sk-parallel\"><div class=\"sk-parallel-item\"><div class=\"sk-item\"><div class=\"sk-label-container\"><div class=\"sk-label sk-toggleable\"><input class=\"sk-toggleable__control sk-hidden--visually\" id=\"sk-estimator-id-37\" type=\"checkbox\" ><label for=\"sk-estimator-id-37\" class=\"sk-toggleable__label sk-toggleable__label-arrow\">len</label><div class=\"sk-toggleable__content\"><pre>[&#x27;password&#x27;]</pre></div></div></div><div class=\"sk-serial\"><div class=\"sk-item\"><div class=\"sk-estimator sk-toggleable\"><input class=\"sk-toggleable__control sk-hidden--visually\" id=\"sk-estimator-id-38\" type=\"checkbox\" ><label for=\"sk-estimator-id-38\" class=\"sk-toggleable__label sk-toggleable__label-arrow\">LenTransform</label><div class=\"sk-toggleable__content\"><pre>LenTransform()</pre></div></div></div></div></div></div><div class=\"sk-parallel-item\"><div class=\"sk-item\"><div class=\"sk-label-container\"><div class=\"sk-label sk-toggleable\"><input class=\"sk-toggleable__control sk-hidden--visually\" id=\"sk-estimator-id-39\" type=\"checkbox\" ><label for=\"sk-estimator-id-39\" class=\"sk-toggleable__label sk-toggleable__label-arrow\">alpha_uc</label><div class=\"sk-toggleable__content\"><pre>[&#x27;password&#x27;]</pre></div></div></div><div class=\"sk-serial\"><div class=\"sk-item\"><div class=\"sk-estimator sk-toggleable\"><input class=\"sk-toggleable__control sk-hidden--visually\" id=\"sk-estimator-id-40\" type=\"checkbox\" ><label for=\"sk-estimator-id-40\" class=\"sk-toggleable__label sk-toggleable__label-arrow\">AlphaUCTransform</label><div class=\"sk-toggleable__content\"><pre>AlphaUCTransform()</pre></div></div></div></div></div></div><div class=\"sk-parallel-item\"><div class=\"sk-item\"><div class=\"sk-label-container\"><div class=\"sk-label sk-toggleable\"><input class=\"sk-toggleable__control sk-hidden--visually\" id=\"sk-estimator-id-41\" type=\"checkbox\" ><label for=\"sk-estimator-id-41\" class=\"sk-toggleable__label sk-toggleable__label-arrow\">alpha_lc</label><div class=\"sk-toggleable__content\"><pre>[&#x27;password&#x27;]</pre></div></div></div><div class=\"sk-serial\"><div class=\"sk-item\"><div class=\"sk-estimator sk-toggleable\"><input class=\"sk-toggleable__control sk-hidden--visually\" id=\"sk-estimator-id-42\" type=\"checkbox\" ><label for=\"sk-estimator-id-42\" class=\"sk-toggleable__label sk-toggleable__label-arrow\">AlphaLCTransform</label><div class=\"sk-toggleable__content\"><pre>AlphaLCTransform()</pre></div></div></div></div></div></div><div class=\"sk-parallel-item\"><div class=\"sk-item\"><div class=\"sk-label-container\"><div class=\"sk-label sk-toggleable\"><input class=\"sk-toggleable__control sk-hidden--visually\" id=\"sk-estimator-id-43\" type=\"checkbox\" ><label for=\"sk-estimator-id-43\" class=\"sk-toggleable__label sk-toggleable__label-arrow\">number</label><div class=\"sk-toggleable__content\"><pre>[&#x27;password&#x27;]</pre></div></div></div><div class=\"sk-serial\"><div class=\"sk-item\"><div class=\"sk-estimator sk-toggleable\"><input class=\"sk-toggleable__control sk-hidden--visually\" id=\"sk-estimator-id-44\" type=\"checkbox\" ><label for=\"sk-estimator-id-44\" class=\"sk-toggleable__label sk-toggleable__label-arrow\">NumberTransform</label><div class=\"sk-toggleable__content\"><pre>NumberTransform()</pre></div></div></div></div></div></div><div class=\"sk-parallel-item\"><div class=\"sk-item\"><div class=\"sk-label-container\"><div class=\"sk-label sk-toggleable\"><input class=\"sk-toggleable__control sk-hidden--visually\" id=\"sk-estimator-id-45\" type=\"checkbox\" ><label for=\"sk-estimator-id-45\" class=\"sk-toggleable__label sk-toggleable__label-arrow\">symbol</label><div class=\"sk-toggleable__content\"><pre>[&#x27;password&#x27;]</pre></div></div></div><div class=\"sk-serial\"><div class=\"sk-item\"><div class=\"sk-estimator sk-toggleable\"><input class=\"sk-toggleable__control sk-hidden--visually\" id=\"sk-estimator-id-46\" type=\"checkbox\" ><label for=\"sk-estimator-id-46\" class=\"sk-toggleable__label sk-toggleable__label-arrow\">SymbolTransform</label><div class=\"sk-toggleable__content\"><pre>SymbolTransform()</pre></div></div></div></div></div></div><div class=\"sk-parallel-item\"><div class=\"sk-item\"><div class=\"sk-label-container\"><div class=\"sk-label sk-toggleable\"><input class=\"sk-toggleable__control sk-hidden--visually\" id=\"sk-estimator-id-47\" type=\"checkbox\" ><label for=\"sk-estimator-id-47\" class=\"sk-toggleable__label sk-toggleable__label-arrow\">mid_char</label><div class=\"sk-toggleable__content\"><pre>[&#x27;password&#x27;]</pre></div></div></div><div class=\"sk-serial\"><div class=\"sk-item\"><div class=\"sk-estimator sk-toggleable\"><input class=\"sk-toggleable__control sk-hidden--visually\" id=\"sk-estimator-id-48\" type=\"checkbox\" ><label for=\"sk-estimator-id-48\" class=\"sk-toggleable__label sk-toggleable__label-arrow\">MidCharTransform</label><div class=\"sk-toggleable__content\"><pre>MidCharTransform()</pre></div></div></div></div></div></div><div class=\"sk-parallel-item\"><div class=\"sk-item\"><div class=\"sk-label-container\"><div class=\"sk-label sk-toggleable\"><input class=\"sk-toggleable__control sk-hidden--visually\" id=\"sk-estimator-id-49\" type=\"checkbox\" ><label for=\"sk-estimator-id-49\" class=\"sk-toggleable__label sk-toggleable__label-arrow\">rep_char</label><div class=\"sk-toggleable__content\"><pre>[&#x27;password&#x27;]</pre></div></div></div><div class=\"sk-serial\"><div class=\"sk-item\"><div class=\"sk-estimator sk-toggleable\"><input class=\"sk-toggleable__control sk-hidden--visually\" id=\"sk-estimator-id-50\" type=\"checkbox\" ><label for=\"sk-estimator-id-50\" class=\"sk-toggleable__label sk-toggleable__label-arrow\">RepCharTransform</label><div class=\"sk-toggleable__content\"><pre>RepCharTransform()</pre></div></div></div></div></div></div><div class=\"sk-parallel-item\"><div class=\"sk-item\"><div class=\"sk-label-container\"><div class=\"sk-label sk-toggleable\"><input class=\"sk-toggleable__control sk-hidden--visually\" id=\"sk-estimator-id-51\" type=\"checkbox\" ><label for=\"sk-estimator-id-51\" class=\"sk-toggleable__label sk-toggleable__label-arrow\">unique_char</label><div class=\"sk-toggleable__content\"><pre>[&#x27;password&#x27;]</pre></div></div></div><div class=\"sk-serial\"><div class=\"sk-item\"><div class=\"sk-estimator sk-toggleable\"><input class=\"sk-toggleable__control sk-hidden--visually\" id=\"sk-estimator-id-52\" type=\"checkbox\" ><label for=\"sk-estimator-id-52\" class=\"sk-toggleable__label sk-toggleable__label-arrow\">UniqueCharTransform</label><div class=\"sk-toggleable__content\"><pre>UniqueCharTransform()</pre></div></div></div></div></div></div><div class=\"sk-parallel-item\"><div class=\"sk-item\"><div class=\"sk-label-container\"><div class=\"sk-label sk-toggleable\"><input class=\"sk-toggleable__control sk-hidden--visually\" id=\"sk-estimator-id-53\" type=\"checkbox\" ><label for=\"sk-estimator-id-53\" class=\"sk-toggleable__label sk-toggleable__label-arrow\">consec_alpha_uc</label><div class=\"sk-toggleable__content\"><pre>[&#x27;password&#x27;]</pre></div></div></div><div class=\"sk-serial\"><div class=\"sk-item\"><div class=\"sk-estimator sk-toggleable\"><input class=\"sk-toggleable__control sk-hidden--visually\" id=\"sk-estimator-id-54\" type=\"checkbox\" ><label for=\"sk-estimator-id-54\" class=\"sk-toggleable__label sk-toggleable__label-arrow\">ConsecAlphaUCTransform</label><div class=\"sk-toggleable__content\"><pre>ConsecAlphaUCTransform()</pre></div></div></div></div></div></div><div class=\"sk-parallel-item\"><div class=\"sk-item\"><div class=\"sk-label-container\"><div class=\"sk-label sk-toggleable\"><input class=\"sk-toggleable__control sk-hidden--visually\" id=\"sk-estimator-id-55\" type=\"checkbox\" ><label for=\"sk-estimator-id-55\" class=\"sk-toggleable__label sk-toggleable__label-arrow\">consec_alpha_lc</label><div class=\"sk-toggleable__content\"><pre>[&#x27;password&#x27;]</pre></div></div></div><div class=\"sk-serial\"><div class=\"sk-item\"><div class=\"sk-estimator sk-toggleable\"><input class=\"sk-toggleable__control sk-hidden--visually\" id=\"sk-estimator-id-56\" type=\"checkbox\" ><label for=\"sk-estimator-id-56\" class=\"sk-toggleable__label sk-toggleable__label-arrow\">ConsecAlphaLCTransform</label><div class=\"sk-toggleable__content\"><pre>ConsecAlphaLCTransform()</pre></div></div></div></div></div></div><div class=\"sk-parallel-item\"><div class=\"sk-item\"><div class=\"sk-label-container\"><div class=\"sk-label sk-toggleable\"><input class=\"sk-toggleable__control sk-hidden--visually\" id=\"sk-estimator-id-57\" type=\"checkbox\" ><label for=\"sk-estimator-id-57\" class=\"sk-toggleable__label sk-toggleable__label-arrow\">consec_number</label><div class=\"sk-toggleable__content\"><pre>[&#x27;password&#x27;]</pre></div></div></div><div class=\"sk-serial\"><div class=\"sk-item\"><div class=\"sk-estimator sk-toggleable\"><input class=\"sk-toggleable__control sk-hidden--visually\" id=\"sk-estimator-id-58\" type=\"checkbox\" ><label for=\"sk-estimator-id-58\" class=\"sk-toggleable__label sk-toggleable__label-arrow\">ConsecNumberTransform</label><div class=\"sk-toggleable__content\"><pre>ConsecNumberTransform()</pre></div></div></div></div></div></div><div class=\"sk-parallel-item\"><div class=\"sk-item\"><div class=\"sk-label-container\"><div class=\"sk-label sk-toggleable\"><input class=\"sk-toggleable__control sk-hidden--visually\" id=\"sk-estimator-id-59\" type=\"checkbox\" ><label for=\"sk-estimator-id-59\" class=\"sk-toggleable__label sk-toggleable__label-arrow\">consec_symbol</label><div class=\"sk-toggleable__content\"><pre>[&#x27;password&#x27;]</pre></div></div></div><div class=\"sk-serial\"><div class=\"sk-item\"><div class=\"sk-estimator sk-toggleable\"><input class=\"sk-toggleable__control sk-hidden--visually\" id=\"sk-estimator-id-60\" type=\"checkbox\" ><label for=\"sk-estimator-id-60\" class=\"sk-toggleable__label sk-toggleable__label-arrow\">ConsecSymbolTransform</label><div class=\"sk-toggleable__content\"><pre>ConsecSymbolTransform()</pre></div></div></div></div></div></div><div class=\"sk-parallel-item\"><div class=\"sk-item\"><div class=\"sk-label-container\"><div class=\"sk-label sk-toggleable\"><input class=\"sk-toggleable__control sk-hidden--visually\" id=\"sk-estimator-id-61\" type=\"checkbox\" ><label for=\"sk-estimator-id-61\" class=\"sk-toggleable__label sk-toggleable__label-arrow\">seq_alpha</label><div class=\"sk-toggleable__content\"><pre>[&#x27;password&#x27;]</pre></div></div></div><div class=\"sk-serial\"><div class=\"sk-item\"><div class=\"sk-estimator sk-toggleable\"><input class=\"sk-toggleable__control sk-hidden--visually\" id=\"sk-estimator-id-62\" type=\"checkbox\" ><label for=\"sk-estimator-id-62\" class=\"sk-toggleable__label sk-toggleable__label-arrow\">SeqAlphaTransform</label><div class=\"sk-toggleable__content\"><pre>SeqAlphaTransform()</pre></div></div></div></div></div></div><div class=\"sk-parallel-item\"><div class=\"sk-item\"><div class=\"sk-label-container\"><div class=\"sk-label sk-toggleable\"><input class=\"sk-toggleable__control sk-hidden--visually\" id=\"sk-estimator-id-63\" type=\"checkbox\" ><label for=\"sk-estimator-id-63\" class=\"sk-toggleable__label sk-toggleable__label-arrow\">seq_number</label><div class=\"sk-toggleable__content\"><pre>[&#x27;password&#x27;]</pre></div></div></div><div class=\"sk-serial\"><div class=\"sk-item\"><div class=\"sk-estimator sk-toggleable\"><input class=\"sk-toggleable__control sk-hidden--visually\" id=\"sk-estimator-id-64\" type=\"checkbox\" ><label for=\"sk-estimator-id-64\" class=\"sk-toggleable__label sk-toggleable__label-arrow\">SeqNumberTransform</label><div class=\"sk-toggleable__content\"><pre>SeqNumberTransform()</pre></div></div></div></div></div></div><div class=\"sk-parallel-item\"><div class=\"sk-item\"><div class=\"sk-label-container\"><div class=\"sk-label sk-toggleable\"><input class=\"sk-toggleable__control sk-hidden--visually\" id=\"sk-estimator-id-65\" type=\"checkbox\" ><label for=\"sk-estimator-id-65\" class=\"sk-toggleable__label sk-toggleable__label-arrow\">seq_keyboard</label><div class=\"sk-toggleable__content\"><pre>[&#x27;password&#x27;]</pre></div></div></div><div class=\"sk-serial\"><div class=\"sk-item\"><div class=\"sk-estimator sk-toggleable\"><input class=\"sk-toggleable__control sk-hidden--visually\" id=\"sk-estimator-id-66\" type=\"checkbox\" ><label for=\"sk-estimator-id-66\" class=\"sk-toggleable__label sk-toggleable__label-arrow\">SeqKeyboardTransform</label><div class=\"sk-toggleable__content\"><pre>SeqKeyboardTransform()</pre></div></div></div></div></div></div></div></div><div class=\"sk-item\"><div class=\"sk-estimator sk-toggleable\"><input class=\"sk-toggleable__control sk-hidden--visually\" id=\"sk-estimator-id-67\" type=\"checkbox\" ><label for=\"sk-estimator-id-67\" class=\"sk-toggleable__label sk-toggleable__label-arrow\">ExtraTreesRegressor</label><div class=\"sk-toggleable__content\"><pre>ExtraTreesRegressor(n_jobs=-1)</pre></div></div></div></div></div></div></div></div></div></div></div></div>"
      ],
      "text/plain": [
       "GridSearchCV(error_score='raise',\n",
       "             estimator=Pipeline(steps=[('preprocess',\n",
       "                                        ColumnTransformer(transformers=[('len',\n",
       "                                                                         LenTransform(),\n",
       "                                                                         ['password']),\n",
       "                                                                        ('alpha_uc',\n",
       "                                                                         AlphaUCTransform(),\n",
       "                                                                         ['password']),\n",
       "                                                                        ('alpha_lc',\n",
       "                                                                         AlphaLCTransform(),\n",
       "                                                                         ['password']),\n",
       "                                                                        ('number',\n",
       "                                                                         NumberTransform(),\n",
       "                                                                         ['password']),\n",
       "                                                                        ('symbol',\n",
       "                                                                         SymbolTransform(),\n",
       "                                                                         ['password']),\n",
       "                                                                        ('mid_char',\n",
       "                                                                         MidCharTransform(),\n",
       "                                                                         ['pa...\n",
       "                                                                         ['password']),\n",
       "                                                                        ('consec_symbol',\n",
       "                                                                         ConsecSymbolTransform(),\n",
       "                                                                         ['password']),\n",
       "                                                                        ('seq_alpha',\n",
       "                                                                         SeqAlphaTransform(),\n",
       "                                                                         ['password']),\n",
       "                                                                        ('seq_number',\n",
       "                                                                         SeqNumberTransform(),\n",
       "                                                                         ['password']),\n",
       "                                                                        ('seq_keyboard',\n",
       "                                                                         SeqKeyboardTransform(),\n",
       "                                                                         ['password'])])),\n",
       "                                       ('regressor',\n",
       "                                        ExtraTreesRegressor(n_jobs=-1))]),\n",
       "             param_grid={'regressor__n_estimators': [1, 5, 10, 20, 50, 75, 100,\n",
       "                                                     150, 200]},\n",
       "             scoring='r2')"
      ]
     },
     "execution_count": 42,
     "metadata": {},
     "output_type": "execute_result"
    }
   ],
   "source": [
    "grid_search.fit(X_train_df, y_train)"
   ]
  },
  {
   "cell_type": "code",
   "execution_count": 43,
   "metadata": {},
   "outputs": [],
   "source": [
    "results = grid_search.cv_results_\n"
   ]
  },
  {
   "cell_type": "code",
   "execution_count": 44,
   "metadata": {},
   "outputs": [],
   "source": [
    "import plotly.express as px\n"
   ]
  },
  {
   "cell_type": "code",
   "execution_count": 47,
   "metadata": {},
   "outputs": [
    {
     "data": {
      "application/vnd.plotly.v1+json": {
       "config": {
        "plotlyServerURL": "https://plot.ly"
       },
       "data": [
        {
         "alignmentgroup": "True",
         "error_y": {
          "array": [
           0.00008377469794436352,
           0.0001045730214109904,
           0.00013852695924229845,
           0.00006239947834641057,
           0.00008342114808675048,
           0.00009332951882136708,
           0.00007236162451044961,
           0.000047713895685402944,
           0.00007406888876742879
          ]
         },
         "hovertemplate": "x=%{x}<br>mean_test_score=%{y}<extra></extra>",
         "legendgroup": "",
         "marker": {
          "color": "#636efa",
          "pattern": {
           "shape": ""
          }
         },
         "name": "",
         "offsetgroup": "",
         "orientation": "v",
         "showlegend": false,
         "textposition": "auto",
         "type": "bar",
         "x": [
          1,
          5,
          10,
          20,
          50,
          75,
          100,
          150,
          200
         ],
         "xaxis": "x",
         "y": [
          0.9997093883444712,
          0.9997955802306523,
          0.9998303358523313,
          0.9998846277674632,
          0.999876034080893,
          0.999875459410768,
          0.9998789189241858,
          0.9999068390086172,
          0.9998835859796422
         ],
         "yaxis": "y"
        }
       ],
       "layout": {
        "barmode": "relative",
        "legend": {
         "tracegroupgap": 0
        },
        "margin": {
         "t": 60
        },
        "template": {
         "data": {
          "bar": [
           {
            "error_x": {
             "color": "#2a3f5f"
            },
            "error_y": {
             "color": "#2a3f5f"
            },
            "marker": {
             "line": {
              "color": "#E5ECF6",
              "width": 0.5
             },
             "pattern": {
              "fillmode": "overlay",
              "size": 10,
              "solidity": 0.2
             }
            },
            "type": "bar"
           }
          ],
          "barpolar": [
           {
            "marker": {
             "line": {
              "color": "#E5ECF6",
              "width": 0.5
             },
             "pattern": {
              "fillmode": "overlay",
              "size": 10,
              "solidity": 0.2
             }
            },
            "type": "barpolar"
           }
          ],
          "carpet": [
           {
            "aaxis": {
             "endlinecolor": "#2a3f5f",
             "gridcolor": "white",
             "linecolor": "white",
             "minorgridcolor": "white",
             "startlinecolor": "#2a3f5f"
            },
            "baxis": {
             "endlinecolor": "#2a3f5f",
             "gridcolor": "white",
             "linecolor": "white",
             "minorgridcolor": "white",
             "startlinecolor": "#2a3f5f"
            },
            "type": "carpet"
           }
          ],
          "choropleth": [
           {
            "colorbar": {
             "outlinewidth": 0,
             "ticks": ""
            },
            "type": "choropleth"
           }
          ],
          "contour": [
           {
            "colorbar": {
             "outlinewidth": 0,
             "ticks": ""
            },
            "colorscale": [
             [
              0,
              "#0d0887"
             ],
             [
              0.1111111111111111,
              "#46039f"
             ],
             [
              0.2222222222222222,
              "#7201a8"
             ],
             [
              0.3333333333333333,
              "#9c179e"
             ],
             [
              0.4444444444444444,
              "#bd3786"
             ],
             [
              0.5555555555555556,
              "#d8576b"
             ],
             [
              0.6666666666666666,
              "#ed7953"
             ],
             [
              0.7777777777777778,
              "#fb9f3a"
             ],
             [
              0.8888888888888888,
              "#fdca26"
             ],
             [
              1,
              "#f0f921"
             ]
            ],
            "type": "contour"
           }
          ],
          "contourcarpet": [
           {
            "colorbar": {
             "outlinewidth": 0,
             "ticks": ""
            },
            "type": "contourcarpet"
           }
          ],
          "heatmap": [
           {
            "colorbar": {
             "outlinewidth": 0,
             "ticks": ""
            },
            "colorscale": [
             [
              0,
              "#0d0887"
             ],
             [
              0.1111111111111111,
              "#46039f"
             ],
             [
              0.2222222222222222,
              "#7201a8"
             ],
             [
              0.3333333333333333,
              "#9c179e"
             ],
             [
              0.4444444444444444,
              "#bd3786"
             ],
             [
              0.5555555555555556,
              "#d8576b"
             ],
             [
              0.6666666666666666,
              "#ed7953"
             ],
             [
              0.7777777777777778,
              "#fb9f3a"
             ],
             [
              0.8888888888888888,
              "#fdca26"
             ],
             [
              1,
              "#f0f921"
             ]
            ],
            "type": "heatmap"
           }
          ],
          "heatmapgl": [
           {
            "colorbar": {
             "outlinewidth": 0,
             "ticks": ""
            },
            "colorscale": [
             [
              0,
              "#0d0887"
             ],
             [
              0.1111111111111111,
              "#46039f"
             ],
             [
              0.2222222222222222,
              "#7201a8"
             ],
             [
              0.3333333333333333,
              "#9c179e"
             ],
             [
              0.4444444444444444,
              "#bd3786"
             ],
             [
              0.5555555555555556,
              "#d8576b"
             ],
             [
              0.6666666666666666,
              "#ed7953"
             ],
             [
              0.7777777777777778,
              "#fb9f3a"
             ],
             [
              0.8888888888888888,
              "#fdca26"
             ],
             [
              1,
              "#f0f921"
             ]
            ],
            "type": "heatmapgl"
           }
          ],
          "histogram": [
           {
            "marker": {
             "pattern": {
              "fillmode": "overlay",
              "size": 10,
              "solidity": 0.2
             }
            },
            "type": "histogram"
           }
          ],
          "histogram2d": [
           {
            "colorbar": {
             "outlinewidth": 0,
             "ticks": ""
            },
            "colorscale": [
             [
              0,
              "#0d0887"
             ],
             [
              0.1111111111111111,
              "#46039f"
             ],
             [
              0.2222222222222222,
              "#7201a8"
             ],
             [
              0.3333333333333333,
              "#9c179e"
             ],
             [
              0.4444444444444444,
              "#bd3786"
             ],
             [
              0.5555555555555556,
              "#d8576b"
             ],
             [
              0.6666666666666666,
              "#ed7953"
             ],
             [
              0.7777777777777778,
              "#fb9f3a"
             ],
             [
              0.8888888888888888,
              "#fdca26"
             ],
             [
              1,
              "#f0f921"
             ]
            ],
            "type": "histogram2d"
           }
          ],
          "histogram2dcontour": [
           {
            "colorbar": {
             "outlinewidth": 0,
             "ticks": ""
            },
            "colorscale": [
             [
              0,
              "#0d0887"
             ],
             [
              0.1111111111111111,
              "#46039f"
             ],
             [
              0.2222222222222222,
              "#7201a8"
             ],
             [
              0.3333333333333333,
              "#9c179e"
             ],
             [
              0.4444444444444444,
              "#bd3786"
             ],
             [
              0.5555555555555556,
              "#d8576b"
             ],
             [
              0.6666666666666666,
              "#ed7953"
             ],
             [
              0.7777777777777778,
              "#fb9f3a"
             ],
             [
              0.8888888888888888,
              "#fdca26"
             ],
             [
              1,
              "#f0f921"
             ]
            ],
            "type": "histogram2dcontour"
           }
          ],
          "mesh3d": [
           {
            "colorbar": {
             "outlinewidth": 0,
             "ticks": ""
            },
            "type": "mesh3d"
           }
          ],
          "parcoords": [
           {
            "line": {
             "colorbar": {
              "outlinewidth": 0,
              "ticks": ""
             }
            },
            "type": "parcoords"
           }
          ],
          "pie": [
           {
            "automargin": true,
            "type": "pie"
           }
          ],
          "scatter": [
           {
            "fillpattern": {
             "fillmode": "overlay",
             "size": 10,
             "solidity": 0.2
            },
            "type": "scatter"
           }
          ],
          "scatter3d": [
           {
            "line": {
             "colorbar": {
              "outlinewidth": 0,
              "ticks": ""
             }
            },
            "marker": {
             "colorbar": {
              "outlinewidth": 0,
              "ticks": ""
             }
            },
            "type": "scatter3d"
           }
          ],
          "scattercarpet": [
           {
            "marker": {
             "colorbar": {
              "outlinewidth": 0,
              "ticks": ""
             }
            },
            "type": "scattercarpet"
           }
          ],
          "scattergeo": [
           {
            "marker": {
             "colorbar": {
              "outlinewidth": 0,
              "ticks": ""
             }
            },
            "type": "scattergeo"
           }
          ],
          "scattergl": [
           {
            "marker": {
             "colorbar": {
              "outlinewidth": 0,
              "ticks": ""
             }
            },
            "type": "scattergl"
           }
          ],
          "scattermapbox": [
           {
            "marker": {
             "colorbar": {
              "outlinewidth": 0,
              "ticks": ""
             }
            },
            "type": "scattermapbox"
           }
          ],
          "scatterpolar": [
           {
            "marker": {
             "colorbar": {
              "outlinewidth": 0,
              "ticks": ""
             }
            },
            "type": "scatterpolar"
           }
          ],
          "scatterpolargl": [
           {
            "marker": {
             "colorbar": {
              "outlinewidth": 0,
              "ticks": ""
             }
            },
            "type": "scatterpolargl"
           }
          ],
          "scatterternary": [
           {
            "marker": {
             "colorbar": {
              "outlinewidth": 0,
              "ticks": ""
             }
            },
            "type": "scatterternary"
           }
          ],
          "surface": [
           {
            "colorbar": {
             "outlinewidth": 0,
             "ticks": ""
            },
            "colorscale": [
             [
              0,
              "#0d0887"
             ],
             [
              0.1111111111111111,
              "#46039f"
             ],
             [
              0.2222222222222222,
              "#7201a8"
             ],
             [
              0.3333333333333333,
              "#9c179e"
             ],
             [
              0.4444444444444444,
              "#bd3786"
             ],
             [
              0.5555555555555556,
              "#d8576b"
             ],
             [
              0.6666666666666666,
              "#ed7953"
             ],
             [
              0.7777777777777778,
              "#fb9f3a"
             ],
             [
              0.8888888888888888,
              "#fdca26"
             ],
             [
              1,
              "#f0f921"
             ]
            ],
            "type": "surface"
           }
          ],
          "table": [
           {
            "cells": {
             "fill": {
              "color": "#EBF0F8"
             },
             "line": {
              "color": "white"
             }
            },
            "header": {
             "fill": {
              "color": "#C8D4E3"
             },
             "line": {
              "color": "white"
             }
            },
            "type": "table"
           }
          ]
         },
         "layout": {
          "annotationdefaults": {
           "arrowcolor": "#2a3f5f",
           "arrowhead": 0,
           "arrowwidth": 1
          },
          "autotypenumbers": "strict",
          "coloraxis": {
           "colorbar": {
            "outlinewidth": 0,
            "ticks": ""
           }
          },
          "colorscale": {
           "diverging": [
            [
             0,
             "#8e0152"
            ],
            [
             0.1,
             "#c51b7d"
            ],
            [
             0.2,
             "#de77ae"
            ],
            [
             0.3,
             "#f1b6da"
            ],
            [
             0.4,
             "#fde0ef"
            ],
            [
             0.5,
             "#f7f7f7"
            ],
            [
             0.6,
             "#e6f5d0"
            ],
            [
             0.7,
             "#b8e186"
            ],
            [
             0.8,
             "#7fbc41"
            ],
            [
             0.9,
             "#4d9221"
            ],
            [
             1,
             "#276419"
            ]
           ],
           "sequential": [
            [
             0,
             "#0d0887"
            ],
            [
             0.1111111111111111,
             "#46039f"
            ],
            [
             0.2222222222222222,
             "#7201a8"
            ],
            [
             0.3333333333333333,
             "#9c179e"
            ],
            [
             0.4444444444444444,
             "#bd3786"
            ],
            [
             0.5555555555555556,
             "#d8576b"
            ],
            [
             0.6666666666666666,
             "#ed7953"
            ],
            [
             0.7777777777777778,
             "#fb9f3a"
            ],
            [
             0.8888888888888888,
             "#fdca26"
            ],
            [
             1,
             "#f0f921"
            ]
           ],
           "sequentialminus": [
            [
             0,
             "#0d0887"
            ],
            [
             0.1111111111111111,
             "#46039f"
            ],
            [
             0.2222222222222222,
             "#7201a8"
            ],
            [
             0.3333333333333333,
             "#9c179e"
            ],
            [
             0.4444444444444444,
             "#bd3786"
            ],
            [
             0.5555555555555556,
             "#d8576b"
            ],
            [
             0.6666666666666666,
             "#ed7953"
            ],
            [
             0.7777777777777778,
             "#fb9f3a"
            ],
            [
             0.8888888888888888,
             "#fdca26"
            ],
            [
             1,
             "#f0f921"
            ]
           ]
          },
          "colorway": [
           "#636efa",
           "#EF553B",
           "#00cc96",
           "#ab63fa",
           "#FFA15A",
           "#19d3f3",
           "#FF6692",
           "#B6E880",
           "#FF97FF",
           "#FECB52"
          ],
          "font": {
           "color": "#2a3f5f"
          },
          "geo": {
           "bgcolor": "white",
           "lakecolor": "white",
           "landcolor": "#E5ECF6",
           "showlakes": true,
           "showland": true,
           "subunitcolor": "white"
          },
          "hoverlabel": {
           "align": "left"
          },
          "hovermode": "closest",
          "mapbox": {
           "style": "light"
          },
          "paper_bgcolor": "white",
          "plot_bgcolor": "#E5ECF6",
          "polar": {
           "angularaxis": {
            "gridcolor": "white",
            "linecolor": "white",
            "ticks": ""
           },
           "bgcolor": "#E5ECF6",
           "radialaxis": {
            "gridcolor": "white",
            "linecolor": "white",
            "ticks": ""
           }
          },
          "scene": {
           "xaxis": {
            "backgroundcolor": "#E5ECF6",
            "gridcolor": "white",
            "gridwidth": 2,
            "linecolor": "white",
            "showbackground": true,
            "ticks": "",
            "zerolinecolor": "white"
           },
           "yaxis": {
            "backgroundcolor": "#E5ECF6",
            "gridcolor": "white",
            "gridwidth": 2,
            "linecolor": "white",
            "showbackground": true,
            "ticks": "",
            "zerolinecolor": "white"
           },
           "zaxis": {
            "backgroundcolor": "#E5ECF6",
            "gridcolor": "white",
            "gridwidth": 2,
            "linecolor": "white",
            "showbackground": true,
            "ticks": "",
            "zerolinecolor": "white"
           }
          },
          "shapedefaults": {
           "line": {
            "color": "#2a3f5f"
           }
          },
          "ternary": {
           "aaxis": {
            "gridcolor": "white",
            "linecolor": "white",
            "ticks": ""
           },
           "baxis": {
            "gridcolor": "white",
            "linecolor": "white",
            "ticks": ""
           },
           "bgcolor": "#E5ECF6",
           "caxis": {
            "gridcolor": "white",
            "linecolor": "white",
            "ticks": ""
           }
          },
          "title": {
           "x": 0.05
          },
          "xaxis": {
           "automargin": true,
           "gridcolor": "white",
           "linecolor": "white",
           "ticks": "",
           "title": {
            "standoff": 15
           },
           "zerolinecolor": "white",
           "zerolinewidth": 2
          },
          "yaxis": {
           "automargin": true,
           "gridcolor": "white",
           "linecolor": "white",
           "ticks": "",
           "title": {
            "standoff": 15
           },
           "zerolinecolor": "white",
           "zerolinewidth": 2
          }
         }
        },
        "xaxis": {
         "anchor": "y",
         "domain": [
          0,
          1
         ],
         "title": {
          "text": "x"
         }
        },
        "yaxis": {
         "anchor": "x",
         "domain": [
          0,
          1
         ],
         "title": {
          "text": "mean_test_score"
         }
        }
       }
      },
      "text/html": [
       "<div>                            <div id=\"726fe4d3-13a0-4fee-b335-2b3952e40330\" class=\"plotly-graph-div\" style=\"height:525px; width:100%;\"></div>            <script type=\"text/javascript\">                require([\"plotly\"], function(Plotly) {                    window.PLOTLYENV=window.PLOTLYENV || {};                                    if (document.getElementById(\"726fe4d3-13a0-4fee-b335-2b3952e40330\")) {                    Plotly.newPlot(                        \"726fe4d3-13a0-4fee-b335-2b3952e40330\",                        [{\"alignmentgroup\":\"True\",\"error_y\":{\"array\":[0.00008377469794436352,0.0001045730214109904,0.00013852695924229845,0.00006239947834641057,0.00008342114808675048,0.00009332951882136708,0.00007236162451044961,0.000047713895685402944,0.00007406888876742879]},\"hovertemplate\":\"x=%{x}<br>mean_test_score=%{y}<extra></extra>\",\"legendgroup\":\"\",\"marker\":{\"color\":\"#636efa\",\"pattern\":{\"shape\":\"\"}},\"name\":\"\",\"offsetgroup\":\"\",\"orientation\":\"v\",\"showlegend\":false,\"textposition\":\"auto\",\"x\":[1,5,10,20,50,75,100,150,200],\"xaxis\":\"x\",\"y\":[0.9997093883444712,0.9997955802306523,0.9998303358523313,0.9998846277674632,0.999876034080893,0.999875459410768,0.9998789189241858,0.9999068390086172,0.9998835859796422],\"yaxis\":\"y\",\"type\":\"bar\"}],                        {\"template\":{\"data\":{\"histogram2dcontour\":[{\"type\":\"histogram2dcontour\",\"colorbar\":{\"outlinewidth\":0,\"ticks\":\"\"},\"colorscale\":[[0.0,\"#0d0887\"],[0.1111111111111111,\"#46039f\"],[0.2222222222222222,\"#7201a8\"],[0.3333333333333333,\"#9c179e\"],[0.4444444444444444,\"#bd3786\"],[0.5555555555555556,\"#d8576b\"],[0.6666666666666666,\"#ed7953\"],[0.7777777777777778,\"#fb9f3a\"],[0.8888888888888888,\"#fdca26\"],[1.0,\"#f0f921\"]]}],\"choropleth\":[{\"type\":\"choropleth\",\"colorbar\":{\"outlinewidth\":0,\"ticks\":\"\"}}],\"histogram2d\":[{\"type\":\"histogram2d\",\"colorbar\":{\"outlinewidth\":0,\"ticks\":\"\"},\"colorscale\":[[0.0,\"#0d0887\"],[0.1111111111111111,\"#46039f\"],[0.2222222222222222,\"#7201a8\"],[0.3333333333333333,\"#9c179e\"],[0.4444444444444444,\"#bd3786\"],[0.5555555555555556,\"#d8576b\"],[0.6666666666666666,\"#ed7953\"],[0.7777777777777778,\"#fb9f3a\"],[0.8888888888888888,\"#fdca26\"],[1.0,\"#f0f921\"]]}],\"heatmap\":[{\"type\":\"heatmap\",\"colorbar\":{\"outlinewidth\":0,\"ticks\":\"\"},\"colorscale\":[[0.0,\"#0d0887\"],[0.1111111111111111,\"#46039f\"],[0.2222222222222222,\"#7201a8\"],[0.3333333333333333,\"#9c179e\"],[0.4444444444444444,\"#bd3786\"],[0.5555555555555556,\"#d8576b\"],[0.6666666666666666,\"#ed7953\"],[0.7777777777777778,\"#fb9f3a\"],[0.8888888888888888,\"#fdca26\"],[1.0,\"#f0f921\"]]}],\"heatmapgl\":[{\"type\":\"heatmapgl\",\"colorbar\":{\"outlinewidth\":0,\"ticks\":\"\"},\"colorscale\":[[0.0,\"#0d0887\"],[0.1111111111111111,\"#46039f\"],[0.2222222222222222,\"#7201a8\"],[0.3333333333333333,\"#9c179e\"],[0.4444444444444444,\"#bd3786\"],[0.5555555555555556,\"#d8576b\"],[0.6666666666666666,\"#ed7953\"],[0.7777777777777778,\"#fb9f3a\"],[0.8888888888888888,\"#fdca26\"],[1.0,\"#f0f921\"]]}],\"contourcarpet\":[{\"type\":\"contourcarpet\",\"colorbar\":{\"outlinewidth\":0,\"ticks\":\"\"}}],\"contour\":[{\"type\":\"contour\",\"colorbar\":{\"outlinewidth\":0,\"ticks\":\"\"},\"colorscale\":[[0.0,\"#0d0887\"],[0.1111111111111111,\"#46039f\"],[0.2222222222222222,\"#7201a8\"],[0.3333333333333333,\"#9c179e\"],[0.4444444444444444,\"#bd3786\"],[0.5555555555555556,\"#d8576b\"],[0.6666666666666666,\"#ed7953\"],[0.7777777777777778,\"#fb9f3a\"],[0.8888888888888888,\"#fdca26\"],[1.0,\"#f0f921\"]]}],\"surface\":[{\"type\":\"surface\",\"colorbar\":{\"outlinewidth\":0,\"ticks\":\"\"},\"colorscale\":[[0.0,\"#0d0887\"],[0.1111111111111111,\"#46039f\"],[0.2222222222222222,\"#7201a8\"],[0.3333333333333333,\"#9c179e\"],[0.4444444444444444,\"#bd3786\"],[0.5555555555555556,\"#d8576b\"],[0.6666666666666666,\"#ed7953\"],[0.7777777777777778,\"#fb9f3a\"],[0.8888888888888888,\"#fdca26\"],[1.0,\"#f0f921\"]]}],\"mesh3d\":[{\"type\":\"mesh3d\",\"colorbar\":{\"outlinewidth\":0,\"ticks\":\"\"}}],\"scatter\":[{\"fillpattern\":{\"fillmode\":\"overlay\",\"size\":10,\"solidity\":0.2},\"type\":\"scatter\"}],\"parcoords\":[{\"type\":\"parcoords\",\"line\":{\"colorbar\":{\"outlinewidth\":0,\"ticks\":\"\"}}}],\"scatterpolargl\":[{\"type\":\"scatterpolargl\",\"marker\":{\"colorbar\":{\"outlinewidth\":0,\"ticks\":\"\"}}}],\"bar\":[{\"error_x\":{\"color\":\"#2a3f5f\"},\"error_y\":{\"color\":\"#2a3f5f\"},\"marker\":{\"line\":{\"color\":\"#E5ECF6\",\"width\":0.5},\"pattern\":{\"fillmode\":\"overlay\",\"size\":10,\"solidity\":0.2}},\"type\":\"bar\"}],\"scattergeo\":[{\"type\":\"scattergeo\",\"marker\":{\"colorbar\":{\"outlinewidth\":0,\"ticks\":\"\"}}}],\"scatterpolar\":[{\"type\":\"scatterpolar\",\"marker\":{\"colorbar\":{\"outlinewidth\":0,\"ticks\":\"\"}}}],\"histogram\":[{\"marker\":{\"pattern\":{\"fillmode\":\"overlay\",\"size\":10,\"solidity\":0.2}},\"type\":\"histogram\"}],\"scattergl\":[{\"type\":\"scattergl\",\"marker\":{\"colorbar\":{\"outlinewidth\":0,\"ticks\":\"\"}}}],\"scatter3d\":[{\"type\":\"scatter3d\",\"line\":{\"colorbar\":{\"outlinewidth\":0,\"ticks\":\"\"}},\"marker\":{\"colorbar\":{\"outlinewidth\":0,\"ticks\":\"\"}}}],\"scattermapbox\":[{\"type\":\"scattermapbox\",\"marker\":{\"colorbar\":{\"outlinewidth\":0,\"ticks\":\"\"}}}],\"scatterternary\":[{\"type\":\"scatterternary\",\"marker\":{\"colorbar\":{\"outlinewidth\":0,\"ticks\":\"\"}}}],\"scattercarpet\":[{\"type\":\"scattercarpet\",\"marker\":{\"colorbar\":{\"outlinewidth\":0,\"ticks\":\"\"}}}],\"carpet\":[{\"aaxis\":{\"endlinecolor\":\"#2a3f5f\",\"gridcolor\":\"white\",\"linecolor\":\"white\",\"minorgridcolor\":\"white\",\"startlinecolor\":\"#2a3f5f\"},\"baxis\":{\"endlinecolor\":\"#2a3f5f\",\"gridcolor\":\"white\",\"linecolor\":\"white\",\"minorgridcolor\":\"white\",\"startlinecolor\":\"#2a3f5f\"},\"type\":\"carpet\"}],\"table\":[{\"cells\":{\"fill\":{\"color\":\"#EBF0F8\"},\"line\":{\"color\":\"white\"}},\"header\":{\"fill\":{\"color\":\"#C8D4E3\"},\"line\":{\"color\":\"white\"}},\"type\":\"table\"}],\"barpolar\":[{\"marker\":{\"line\":{\"color\":\"#E5ECF6\",\"width\":0.5},\"pattern\":{\"fillmode\":\"overlay\",\"size\":10,\"solidity\":0.2}},\"type\":\"barpolar\"}],\"pie\":[{\"automargin\":true,\"type\":\"pie\"}]},\"layout\":{\"autotypenumbers\":\"strict\",\"colorway\":[\"#636efa\",\"#EF553B\",\"#00cc96\",\"#ab63fa\",\"#FFA15A\",\"#19d3f3\",\"#FF6692\",\"#B6E880\",\"#FF97FF\",\"#FECB52\"],\"font\":{\"color\":\"#2a3f5f\"},\"hovermode\":\"closest\",\"hoverlabel\":{\"align\":\"left\"},\"paper_bgcolor\":\"white\",\"plot_bgcolor\":\"#E5ECF6\",\"polar\":{\"bgcolor\":\"#E5ECF6\",\"angularaxis\":{\"gridcolor\":\"white\",\"linecolor\":\"white\",\"ticks\":\"\"},\"radialaxis\":{\"gridcolor\":\"white\",\"linecolor\":\"white\",\"ticks\":\"\"}},\"ternary\":{\"bgcolor\":\"#E5ECF6\",\"aaxis\":{\"gridcolor\":\"white\",\"linecolor\":\"white\",\"ticks\":\"\"},\"baxis\":{\"gridcolor\":\"white\",\"linecolor\":\"white\",\"ticks\":\"\"},\"caxis\":{\"gridcolor\":\"white\",\"linecolor\":\"white\",\"ticks\":\"\"}},\"coloraxis\":{\"colorbar\":{\"outlinewidth\":0,\"ticks\":\"\"}},\"colorscale\":{\"sequential\":[[0.0,\"#0d0887\"],[0.1111111111111111,\"#46039f\"],[0.2222222222222222,\"#7201a8\"],[0.3333333333333333,\"#9c179e\"],[0.4444444444444444,\"#bd3786\"],[0.5555555555555556,\"#d8576b\"],[0.6666666666666666,\"#ed7953\"],[0.7777777777777778,\"#fb9f3a\"],[0.8888888888888888,\"#fdca26\"],[1.0,\"#f0f921\"]],\"sequentialminus\":[[0.0,\"#0d0887\"],[0.1111111111111111,\"#46039f\"],[0.2222222222222222,\"#7201a8\"],[0.3333333333333333,\"#9c179e\"],[0.4444444444444444,\"#bd3786\"],[0.5555555555555556,\"#d8576b\"],[0.6666666666666666,\"#ed7953\"],[0.7777777777777778,\"#fb9f3a\"],[0.8888888888888888,\"#fdca26\"],[1.0,\"#f0f921\"]],\"diverging\":[[0,\"#8e0152\"],[0.1,\"#c51b7d\"],[0.2,\"#de77ae\"],[0.3,\"#f1b6da\"],[0.4,\"#fde0ef\"],[0.5,\"#f7f7f7\"],[0.6,\"#e6f5d0\"],[0.7,\"#b8e186\"],[0.8,\"#7fbc41\"],[0.9,\"#4d9221\"],[1,\"#276419\"]]},\"xaxis\":{\"gridcolor\":\"white\",\"linecolor\":\"white\",\"ticks\":\"\",\"title\":{\"standoff\":15},\"zerolinecolor\":\"white\",\"automargin\":true,\"zerolinewidth\":2},\"yaxis\":{\"gridcolor\":\"white\",\"linecolor\":\"white\",\"ticks\":\"\",\"title\":{\"standoff\":15},\"zerolinecolor\":\"white\",\"automargin\":true,\"zerolinewidth\":2},\"scene\":{\"xaxis\":{\"backgroundcolor\":\"#E5ECF6\",\"gridcolor\":\"white\",\"linecolor\":\"white\",\"showbackground\":true,\"ticks\":\"\",\"zerolinecolor\":\"white\",\"gridwidth\":2},\"yaxis\":{\"backgroundcolor\":\"#E5ECF6\",\"gridcolor\":\"white\",\"linecolor\":\"white\",\"showbackground\":true,\"ticks\":\"\",\"zerolinecolor\":\"white\",\"gridwidth\":2},\"zaxis\":{\"backgroundcolor\":\"#E5ECF6\",\"gridcolor\":\"white\",\"linecolor\":\"white\",\"showbackground\":true,\"ticks\":\"\",\"zerolinecolor\":\"white\",\"gridwidth\":2}},\"shapedefaults\":{\"line\":{\"color\":\"#2a3f5f\"}},\"annotationdefaults\":{\"arrowcolor\":\"#2a3f5f\",\"arrowhead\":0,\"arrowwidth\":1},\"geo\":{\"bgcolor\":\"white\",\"landcolor\":\"#E5ECF6\",\"subunitcolor\":\"white\",\"showland\":true,\"showlakes\":true,\"lakecolor\":\"white\"},\"title\":{\"x\":0.05},\"mapbox\":{\"style\":\"light\"}}},\"xaxis\":{\"anchor\":\"y\",\"domain\":[0.0,1.0],\"title\":{\"text\":\"x\"}},\"yaxis\":{\"anchor\":\"x\",\"domain\":[0.0,1.0],\"title\":{\"text\":\"mean_test_score\"}},\"legend\":{\"tracegroupgap\":0},\"margin\":{\"t\":60},\"barmode\":\"relative\"},                        {\"responsive\": true}                    ).then(function(){\n",
       "                            \n",
       "var gd = document.getElementById('726fe4d3-13a0-4fee-b335-2b3952e40330');\n",
       "var x = new MutationObserver(function (mutations, observer) {{\n",
       "        var display = window.getComputedStyle(gd).display;\n",
       "        if (!display || display === 'none') {{\n",
       "            console.log([gd, 'removed!']);\n",
       "            Plotly.purge(gd);\n",
       "            observer.disconnect();\n",
       "        }}\n",
       "}});\n",
       "\n",
       "// Listen for the removal of the full notebook cells\n",
       "var notebookContainer = gd.closest('#notebook-container');\n",
       "if (notebookContainer) {{\n",
       "    x.observe(notebookContainer, {childList: true});\n",
       "}}\n",
       "\n",
       "// Listen for the clearing of the current output cell\n",
       "var outputEl = gd.closest('.output');\n",
       "if (outputEl) {{\n",
       "    x.observe(outputEl, {childList: true});\n",
       "}}\n",
       "\n",
       "                        })                };                });            </script>        </div>"
      ]
     },
     "metadata": {},
     "output_type": "display_data"
    }
   ],
   "source": [
    "fig = px.bar(results, x=[1,5,10,20,50,75,100,150,200], y='mean_test_score', error_y='std_test_score')\n",
    "fig.show()"
   ]
  },
  {
   "attachments": {},
   "cell_type": "markdown",
   "metadata": {},
   "source": [
    "From fig, we observe that r2 score for n_estimators=1 is equal to n_estimators=200. So we need only one tree to minimize our complexity. Therefore, we will consider using `Decision Tree Regressor`."
   ]
  }
 ],
 "metadata": {
  "kernelspec": {
   "display_name": "env",
   "language": "python",
   "name": "python3"
  },
  "language_info": {
   "codemirror_mode": {
    "name": "ipython",
    "version": 3
   },
   "file_extension": ".py",
   "mimetype": "text/x-python",
   "name": "python",
   "nbconvert_exporter": "python",
   "pygments_lexer": "ipython3",
   "version": "3.10.6"
  },
  "orig_nbformat": 4
 },
 "nbformat": 4,
 "nbformat_minor": 2
}
